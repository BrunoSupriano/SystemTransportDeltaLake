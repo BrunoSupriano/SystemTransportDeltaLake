{
 "cells": [
  {
   "cell_type": "code",
   "execution_count": 0,
   "metadata": {
    "application/vnd.databricks.v1+cell": {
     "cellMetadata": {
      "byteLimit": 2048000,
      "rowLimit": 10000
     },
     "inputWidgets": {},
     "nuid": "9f47e85e-40ed-4af3-8f0a-62d799379710",
     "showTitle": false,
     "title": ""
    }
   },
   "outputs": [
    {
     "output_type": "execute_result",
     "data": {
      "text/html": [
       "\n",
       "            <div>\n",
       "                <p><b>SparkSession - hive</b></p>\n",
       "                \n",
       "        <div>\n",
       "            <p><b>SparkContext</b></p>\n",
       "\n",
       "            <p><a href=\"/?o=4003071192899964#setting/sparkui/0621-173356-jtgj7nl/driver-680423322242539492\">Spark UI</a></p>\n",
       "\n",
       "            <dl>\n",
       "              <dt>Version</dt>\n",
       "                <dd><code>v3.5.0</code></dd>\n",
       "              <dt>Master</dt>\n",
       "                <dd><code>local[*, 4]</code></dd>\n",
       "              <dt>AppName</dt>\n",
       "                <dd><code>Databricks Shell</code></dd>\n",
       "            </dl>\n",
       "        </div>\n",
       "        \n",
       "            </div>\n",
       "        "
      ],
      "text/plain": [
       "<pyspark.sql.session.SparkSession at 0x7f95137ab9d0>"
      ]
     },
     "execution_count": 1,
     "metadata": {},
     "output_type": "execute_result"
    }
   ],
   "source": [
    "spark"
   ]
  },
  {
   "cell_type": "markdown",
   "metadata": {
    "application/vnd.databricks.v1+cell": {
     "cellMetadata": {
      "byteLimit": 2048000,
      "rowLimit": 10000
     },
     "inputWidgets": {},
     "nuid": "e41c45a0-7baa-4b6d-8ba0-baa208d70de6",
     "showTitle": false,
     "title": ""
    }
   },
   "source": [
    "##Conectando Azure ADLS Gen2 no Databricks"
   ]
  },
  {
   "cell_type": "markdown",
   "metadata": {
    "application/vnd.databricks.v1+cell": {
     "cellMetadata": {
      "byteLimit": 2048000,
      "rowLimit": 10000
     },
     "inputWidgets": {},
     "nuid": "6db089e4-34ca-467d-9283-84d32df135de",
     "showTitle": false,
     "title": ""
    }
   },
   "source": [
    "###Mostrando os pontos de montagem no cluster Databricks"
   ]
  },
  {
   "cell_type": "code",
   "execution_count": 0,
   "metadata": {
    "application/vnd.databricks.v1+cell": {
     "cellMetadata": {
      "byteLimit": 2048000,
      "rowLimit": 10000
     },
     "inputWidgets": {},
     "nuid": "2f609961-0743-4c28-a25b-dddae5e762a0",
     "showTitle": false,
     "title": ""
    }
   },
   "outputs": [
    {
     "output_type": "display_data",
     "data": {
      "text/html": [
       "<style scoped>\n",
       "  .table-result-container {\n",
       "    max-height: 300px;\n",
       "    overflow: auto;\n",
       "  }\n",
       "  table, th, td {\n",
       "    border: 1px solid black;\n",
       "    border-collapse: collapse;\n",
       "  }\n",
       "  th, td {\n",
       "    padding: 5px;\n",
       "  }\n",
       "  th {\n",
       "    text-align: left;\n",
       "  }\n",
       "</style><div class='table-result-container'><table class='table-result'><thead style='background-color: white'><tr><th>mountPoint</th><th>source</th><th>encryptionType</th></tr></thead><tbody><tr><td>/databricks-datasets</td><td>databricks-datasets</td><td></td></tr><tr><td>/Volumes</td><td>UnityCatalogVolumes</td><td></td></tr><tr><td>/databricks/mlflow-tracking</td><td>databricks/mlflow-tracking</td><td></td></tr><tr><td>/databricks-results</td><td>databricks-results</td><td></td></tr><tr><td>/databricks/mlflow-registry</td><td>databricks/mlflow-registry</td><td></td></tr><tr><td>/mnt/datalake7a68c04c876ba15d/silver</td><td>wasbs://silver@datalake7a68c04c876ba15d.blob.core.windows.net</td><td></td></tr><tr><td>/mnt/datalake7a68c04c876ba15d/gold</td><td>wasbs://gold@datalake7a68c04c876ba15d.blob.core.windows.net</td><td></td></tr><tr><td>/Volume</td><td>DbfsReserved</td><td></td></tr><tr><td>/volumes</td><td>DbfsReserved</td><td></td></tr><tr><td>/</td><td>DatabricksRoot</td><td></td></tr><tr><td>/volume</td><td>DbfsReserved</td><td></td></tr></tbody></table></div>"
      ]
     },
     "metadata": {
      "application/vnd.databricks.v1+output": {
       "addedWidgets": {},
       "aggData": [],
       "aggError": "",
       "aggOverflow": false,
       "aggSchema": [],
       "aggSeriesLimitReached": false,
       "aggType": "",
       "arguments": {},
       "columnCustomDisplayInfos": {},
       "data": [
        [
         "/databricks-datasets",
         "databricks-datasets",
         ""
        ],
        [
         "/Volumes",
         "UnityCatalogVolumes",
         ""
        ],
        [
         "/databricks/mlflow-tracking",
         "databricks/mlflow-tracking",
         ""
        ],
        [
         "/databricks-results",
         "databricks-results",
         ""
        ],
        [
         "/databricks/mlflow-registry",
         "databricks/mlflow-registry",
         ""
        ],
        [
         "/mnt/datalake7a68c04c876ba15d/silver",
         "wasbs://silver@datalake7a68c04c876ba15d.blob.core.windows.net",
         ""
        ],
        [
         "/mnt/datalake7a68c04c876ba15d/gold",
         "wasbs://gold@datalake7a68c04c876ba15d.blob.core.windows.net",
         ""
        ],
        [
         "/Volume",
         "DbfsReserved",
         ""
        ],
        [
         "/volumes",
         "DbfsReserved",
         ""
        ],
        [
         "/",
         "DatabricksRoot",
         ""
        ],
        [
         "/volume",
         "DbfsReserved",
         ""
        ]
       ],
       "datasetInfos": [],
       "dbfsResultPath": null,
       "isJsonSchema": true,
       "metadata": {},
       "overflow": false,
       "plotOptions": {
        "customPlotOptions": {},
        "displayType": "table",
        "pivotAggregation": null,
        "pivotColumns": null,
        "xColumns": null,
        "yColumns": null
       },
       "removedWidgets": [],
       "schema": [
        {
         "metadata": "{}",
         "name": "mountPoint",
         "type": "\"string\""
        },
        {
         "metadata": "{}",
         "name": "source",
         "type": "\"string\""
        },
        {
         "metadata": "{}",
         "name": "encryptionType",
         "type": "\"string\""
        }
       ],
       "type": "table"
      }
     },
     "output_type": "display_data"
    }
   ],
   "source": [
    "display(dbutils.fs.mounts())"
   ]
  },
  {
   "cell_type": "markdown",
   "metadata": {
    "application/vnd.databricks.v1+cell": {
     "cellMetadata": {
      "byteLimit": 2048000,
      "rowLimit": 10000
     },
     "inputWidgets": {},
     "nuid": "7d06389f-4489-493f-90ac-1c851030ded9",
     "showTitle": false,
     "title": ""
    }
   },
   "source": [
    "### Definindo storage account e sas key "
   ]
  },
  {
   "cell_type": "code",
   "execution_count": 0,
   "metadata": {
    "application/vnd.databricks.v1+cell": {
     "cellMetadata": {
      "byteLimit": 2048000,
      "rowLimit": 10000
     },
     "inputWidgets": {},
     "nuid": "a7f9ff65-76b6-4c23-bccf-22960ae9abbf",
     "showTitle": false,
     "title": ""
    }
   },
   "outputs": [],
   "source": [
    "storageAccountName = \"datalake7a68c04c876ba15d\"\n",
    "sasToken = dbutils.secrets.get(scope=\"sas-token\", key=\"sas-tkn\")"
   ]
  },
  {
   "cell_type": "markdown",
   "metadata": {
    "application/vnd.databricks.v1+cell": {
     "cellMetadata": {
      "byteLimit": 2048000,
      "rowLimit": 10000
     },
     "inputWidgets": {},
     "nuid": "be833b1c-97d0-497d-be3f-a2f5a7c78ab8",
     "showTitle": false,
     "title": ""
    }
   },
   "source": [
    "###Desmontando os pontos de montagem não utilizados"
   ]
  },
  {
   "cell_type": "code",
   "execution_count": 0,
   "metadata": {
    "application/vnd.databricks.v1+cell": {
     "cellMetadata": {
      "byteLimit": 2048000,
      "rowLimit": 10000
     },
     "inputWidgets": {},
     "nuid": "60fe2e73-8ee0-489c-a372-bf1af953ce48",
     "showTitle": false,
     "title": ""
    }
   },
   "outputs": [
    {
     "output_type": "stream",
     "name": "stdout",
     "output_type": "stream",
     "text": [
      "/mnt/datalake7a68c04c876ba15d/bronze has been unmounted.\n/mnt/datalake7a68c04c876ba15d/silver has been unmounted.\n/mnt/datalake7a68c04c876ba15d/gold has been unmounted.\n"
     ]
    },
    {
     "output_type": "execute_result",
     "data": {
      "text/plain": [
       "True"
      ]
     },
     "execution_count": 4,
     "metadata": {},
     "output_type": "execute_result"
    }
   ],
   "source": [
    "# dbutils.fs.unmount(f'/mnt/{storageAccountName}/landing-zone')\n",
    "# dbutils.fs.unmount(f'/mnt/{storageAccountName}/bronze')\n",
    "dbutils.fs.unmount(f'/mnt/{storageAccountName}/silver')\n",
    "dbutils.fs.unmount(f'/mnt/{storageAccountName}/gold')"
   ]
  },
  {
   "cell_type": "markdown",
   "metadata": {
    "application/vnd.databricks.v1+cell": {
     "cellMetadata": {
      "byteLimit": 2048000,
      "rowLimit": 10000
     },
     "inputWidgets": {},
     "nuid": "de2d1bbb-6c83-4c22-85c5-1925ae1b5aef",
     "showTitle": false,
     "title": ""
    }
   },
   "source": [
    "### Definindo uma função para montar um ADLS com um ponto de montagem com ADLS SAS "
   ]
  },
  {
   "cell_type": "code",
   "execution_count": 0,
   "metadata": {
    "application/vnd.databricks.v1+cell": {
     "cellMetadata": {
      "byteLimit": 2048000,
      "rowLimit": 10000
     },
     "inputWidgets": {},
     "nuid": "6930e68f-d83e-4b05-a2e1-37dc079ddc0b",
     "showTitle": false,
     "title": ""
    }
   },
   "outputs": [],
   "source": [
    "def mount_adls(blobContainerName):\n",
    "    try:\n",
    "      dbutils.fs.mount(\n",
    "        source = \"wasbs://{}@{}.blob.core.windows.net\".format(blobContainerName, storageAccountName),\n",
    "        mount_point = f\"/mnt/{storageAccountName}/{blobContainerName}\",\n",
    "        extra_configs = {'fs.azure.sas.' + blobContainerName + '.' + storageAccountName + '.blob.core.windows.net': sasToken}\n",
    "      )\n",
    "      print(\"OK!\")\n",
    "    except Exception as e:\n",
    "      print(\"Falha\", e)"
   ]
  },
  {
   "cell_type": "markdown",
   "metadata": {
    "application/vnd.databricks.v1+cell": {
     "cellMetadata": {
      "byteLimit": 2048000,
      "rowLimit": 10000
     },
     "inputWidgets": {},
     "nuid": "aec22f74-dfed-4a02-8d2c-eb61b912a66d",
     "showTitle": false,
     "title": ""
    }
   },
   "source": [
    "###Montando todos os containers"
   ]
  },
  {
   "cell_type": "code",
   "execution_count": 0,
   "metadata": {
    "application/vnd.databricks.v1+cell": {
     "cellMetadata": {
      "byteLimit": 2048000,
      "rowLimit": 10000
     },
     "inputWidgets": {},
     "nuid": "3f8bf05f-7053-4d9c-853c-ca16aaee20e8",
     "showTitle": false,
     "title": ""
    },
    "jupyter": {
     "outputs_hidden": true
    }
   },
   "outputs": [
    {
     "output_type": "stream",
     "name": "stdout",
     "output_type": "stream",
     "text": [
      "OK!\nOK!\nOK!\nOK!\n"
     ]
    }
   ],
   "source": [
    "mount_adls('landing-zone')\n",
    "mount_adls('bronze')\n",
    "mount_adls('silver')\n",
    "mount_adls('gold')"
   ]
  },
  {
   "cell_type": "markdown",
   "metadata": {
    "application/vnd.databricks.v1+cell": {
     "cellMetadata": {
      "byteLimit": 2048000,
      "rowLimit": 10000
     },
     "inputWidgets": {},
     "nuid": "5ab22264-4eff-4f32-8baf-32e97521f191",
     "showTitle": false,
     "title": ""
    }
   },
   "source": [
    "###Mostrando os pontos de montagem no cluster Databricks"
   ]
  },
  {
   "cell_type": "code",
   "execution_count": 0,
   "metadata": {
    "application/vnd.databricks.v1+cell": {
     "cellMetadata": {
      "byteLimit": 2048000,
      "rowLimit": 10000
     },
     "inputWidgets": {},
     "nuid": "e2565913-81f4-4638-943b-1fbfd6b0f5d7",
     "showTitle": false,
     "title": ""
    }
   },
   "outputs": [
    {
     "output_type": "display_data",
     "data": {
      "text/html": [
       "<style scoped>\n",
       "  .table-result-container {\n",
       "    max-height: 300px;\n",
       "    overflow: auto;\n",
       "  }\n",
       "  table, th, td {\n",
       "    border: 1px solid black;\n",
       "    border-collapse: collapse;\n",
       "  }\n",
       "  th, td {\n",
       "    padding: 5px;\n",
       "  }\n",
       "  th {\n",
       "    text-align: left;\n",
       "  }\n",
       "</style><div class='table-result-container'><table class='table-result'><thead style='background-color: white'><tr><th>mountPoint</th><th>source</th><th>encryptionType</th></tr></thead><tbody><tr><td>/databricks-datasets</td><td>databricks-datasets</td><td></td></tr><tr><td>/Volumes</td><td>UnityCatalogVolumes</td><td></td></tr><tr><td>/mnt/datalake7a68c04c876ba15d/bronze</td><td>wasbs://bronze@datalake7a68c04c876ba15d.blob.core.windows.net</td><td></td></tr><tr><td>/databricks/mlflow-tracking</td><td>databricks/mlflow-tracking</td><td></td></tr><tr><td>/databricks-results</td><td>databricks-results</td><td></td></tr><tr><td>/databricks/mlflow-registry</td><td>databricks/mlflow-registry</td><td></td></tr><tr><td>/mnt/datalake7a68c04c876ba15d/silver</td><td>wasbs://silver@datalake7a68c04c876ba15d.blob.core.windows.net</td><td></td></tr><tr><td>/mnt/datalake7a68c04c876ba15d/landing-zone</td><td>wasbs://landing-zone@datalake7a68c04c876ba15d.blob.core.windows.net</td><td></td></tr><tr><td>/mnt/datalake7a68c04c876ba15d/gold</td><td>wasbs://gold@datalake7a68c04c876ba15d.blob.core.windows.net</td><td></td></tr><tr><td>/Volume</td><td>DbfsReserved</td><td></td></tr><tr><td>/volumes</td><td>DbfsReserved</td><td></td></tr><tr><td>/</td><td>DatabricksRoot</td><td></td></tr><tr><td>/volume</td><td>DbfsReserved</td><td></td></tr></tbody></table></div>"
      ]
     },
     "metadata": {
      "application/vnd.databricks.v1+output": {
       "addedWidgets": {},
       "aggData": [],
       "aggError": "",
       "aggOverflow": false,
       "aggSchema": [],
       "aggSeriesLimitReached": false,
       "aggType": "",
       "arguments": {},
       "columnCustomDisplayInfos": {},
       "data": [
        [
         "/databricks-datasets",
         "databricks-datasets",
         ""
        ],
        [
         "/Volumes",
         "UnityCatalogVolumes",
         ""
        ],
        [
         "/mnt/datalake7a68c04c876ba15d/bronze",
         "wasbs://bronze@datalake7a68c04c876ba15d.blob.core.windows.net",
         ""
        ],
        [
         "/databricks/mlflow-tracking",
         "databricks/mlflow-tracking",
         ""
        ],
        [
         "/databricks-results",
         "databricks-results",
         ""
        ],
        [
         "/databricks/mlflow-registry",
         "databricks/mlflow-registry",
         ""
        ],
        [
         "/mnt/datalake7a68c04c876ba15d/silver",
         "wasbs://silver@datalake7a68c04c876ba15d.blob.core.windows.net",
         ""
        ],
        [
         "/mnt/datalake7a68c04c876ba15d/landing-zone",
         "wasbs://landing-zone@datalake7a68c04c876ba15d.blob.core.windows.net",
         ""
        ],
        [
         "/mnt/datalake7a68c04c876ba15d/gold",
         "wasbs://gold@datalake7a68c04c876ba15d.blob.core.windows.net",
         ""
        ],
        [
         "/Volume",
         "DbfsReserved",
         ""
        ],
        [
         "/volumes",
         "DbfsReserved",
         ""
        ],
        [
         "/",
         "DatabricksRoot",
         ""
        ],
        [
         "/volume",
         "DbfsReserved",
         ""
        ]
       ],
       "datasetInfos": [],
       "dbfsResultPath": null,
       "isJsonSchema": true,
       "metadata": {},
       "overflow": false,
       "plotOptions": {
        "customPlotOptions": {},
        "displayType": "table",
        "pivotAggregation": null,
        "pivotColumns": null,
        "xColumns": null,
        "yColumns": null
       },
       "removedWidgets": [],
       "schema": [
        {
         "metadata": "{}",
         "name": "mountPoint",
         "type": "\"string\""
        },
        {
         "metadata": "{}",
         "name": "source",
         "type": "\"string\""
        },
        {
         "metadata": "{}",
         "name": "encryptionType",
         "type": "\"string\""
        }
       ],
       "type": "table"
      }
     },
     "output_type": "display_data"
    }
   ],
   "source": [
    "display(dbutils.fs.mounts())"
   ]
  },
  {
   "cell_type": "markdown",
   "metadata": {
    "application/vnd.databricks.v1+cell": {
     "cellMetadata": {
      "byteLimit": 2048000,
      "rowLimit": 10000
     },
     "inputWidgets": {},
     "nuid": "4fc029c5-dc21-4189-9c4b-eb9778b69b8b",
     "showTitle": false,
     "title": ""
    }
   },
   "source": [
    "## Transformações de dados"
   ]
  },
  {
   "cell_type": "markdown",
   "metadata": {
    "application/vnd.databricks.v1+cell": {
     "cellMetadata": {
      "byteLimit": 2048000,
      "rowLimit": 10000
     },
     "inputWidgets": {},
     "nuid": "1f6ec630-db65-41cb-9fdf-a941cfafe400",
     "showTitle": false,
     "title": ""
    }
   },
   "source": [
    "### Mostrando todos os arquivos da camada landing-zone"
   ]
  },
  {
   "cell_type": "code",
   "execution_count": 0,
   "metadata": {
    "application/vnd.databricks.v1+cell": {
     "cellMetadata": {
      "byteLimit": 2048000,
      "rowLimit": 10000
     },
     "inputWidgets": {},
     "nuid": "295f6535-5ab1-43af-a1d3-fadec36b766b",
     "showTitle": false,
     "title": ""
    }
   },
   "outputs": [
    {
     "output_type": "display_data",
     "data": {
      "text/html": [
       "<style scoped>\n",
       "  .table-result-container {\n",
       "    max-height: 300px;\n",
       "    overflow: auto;\n",
       "  }\n",
       "  table, th, td {\n",
       "    border: 1px solid black;\n",
       "    border-collapse: collapse;\n",
       "  }\n",
       "  th, td {\n",
       "    padding: 5px;\n",
       "  }\n",
       "  th {\n",
       "    text-align: left;\n",
       "  }\n",
       "</style><div class='table-result-container'><table class='table-result'><thead style='background-color: white'><tr><th>path</th><th>name</th><th>size</th><th>modificationTime</th></tr></thead><tbody><tr><td>dbfs:/mnt/datalake7a68c04c876ba15d/landing-zone/Agendamentos.csv</td><td>Agendamentos.csv</td><td>784550</td><td>1719190940000</td></tr><tr><td>dbfs:/mnt/datalake7a68c04c876ba15d/landing-zone/Cargas.csv</td><td>Cargas.csv</td><td>512810</td><td>1719190941000</td></tr><tr><td>dbfs:/mnt/datalake7a68c04c876ba15d/landing-zone/Clientes.csv</td><td>Clientes.csv</td><td>1222768</td><td>1719190941000</td></tr><tr><td>dbfs:/mnt/datalake7a68c04c876ba15d/landing-zone/Motoristas.csv</td><td>Motoristas.csv</td><td>647073</td><td>1719190939000</td></tr><tr><td>dbfs:/mnt/datalake7a68c04c876ba15d/landing-zone/Rotas.csv</td><td>Rotas.csv</td><td>283294</td><td>1719190938000</td></tr><tr><td>dbfs:/mnt/datalake7a68c04c876ba15d/landing-zone/Veiculos.csv</td><td>Veiculos.csv</td><td>522623</td><td>1719190939000</td></tr></tbody></table></div>"
      ]
     },
     "metadata": {
      "application/vnd.databricks.v1+output": {
       "addedWidgets": {},
       "aggData": [],
       "aggError": "",
       "aggOverflow": false,
       "aggSchema": [],
       "aggSeriesLimitReached": false,
       "aggType": "",
       "arguments": {},
       "columnCustomDisplayInfos": {},
       "data": [
        [
         "dbfs:/mnt/datalake7a68c04c876ba15d/landing-zone/Agendamentos.csv",
         "Agendamentos.csv",
         784550,
         1719190940000
        ],
        [
         "dbfs:/mnt/datalake7a68c04c876ba15d/landing-zone/Cargas.csv",
         "Cargas.csv",
         512810,
         1719190941000
        ],
        [
         "dbfs:/mnt/datalake7a68c04c876ba15d/landing-zone/Clientes.csv",
         "Clientes.csv",
         1222768,
         1719190941000
        ],
        [
         "dbfs:/mnt/datalake7a68c04c876ba15d/landing-zone/Motoristas.csv",
         "Motoristas.csv",
         647073,
         1719190939000
        ],
        [
         "dbfs:/mnt/datalake7a68c04c876ba15d/landing-zone/Rotas.csv",
         "Rotas.csv",
         283294,
         1719190938000
        ],
        [
         "dbfs:/mnt/datalake7a68c04c876ba15d/landing-zone/Veiculos.csv",
         "Veiculos.csv",
         522623,
         1719190939000
        ]
       ],
       "datasetInfos": [],
       "dbfsResultPath": null,
       "isJsonSchema": true,
       "metadata": {},
       "overflow": false,
       "plotOptions": {
        "customPlotOptions": {},
        "displayType": "table",
        "pivotAggregation": null,
        "pivotColumns": null,
        "xColumns": null,
        "yColumns": null
       },
       "removedWidgets": [],
       "schema": [
        {
         "metadata": "{}",
         "name": "path",
         "type": "\"string\""
        },
        {
         "metadata": "{}",
         "name": "name",
         "type": "\"string\""
        },
        {
         "metadata": "{}",
         "name": "size",
         "type": "\"long\""
        },
        {
         "metadata": "{}",
         "name": "modificationTime",
         "type": "\"long\""
        }
       ],
       "type": "table"
      }
     },
     "output_type": "display_data"
    }
   ],
   "source": [
    "display(dbutils.fs.ls(f\"/mnt/{storageAccountName}/landing-zone\"))"
   ]
  },
  {
   "cell_type": "markdown",
   "metadata": {
    "application/vnd.databricks.v1+cell": {
     "cellMetadata": {
      "byteLimit": 2048000,
      "rowLimit": 10000
     },
     "inputWidgets": {},
     "nuid": "1ef3c883-3b0f-44cb-8917-49f1f1fd3819",
     "showTitle": false,
     "title": ""
    }
   },
   "source": [
    "###Gerando um dataframe para cada arquivo a partir dos arquivos CSV gravado no container landing-zone do Azure Data Lake Storage"
   ]
  },
  {
   "cell_type": "code",
   "execution_count": 0,
   "metadata": {
    "application/vnd.databricks.v1+cell": {
     "cellMetadata": {
      "byteLimit": 2048000,
      "rowLimit": 10000
     },
     "inputWidgets": {},
     "nuid": "37774595-e2cd-4ba0-92aa-4a6f239c0e7b",
     "showTitle": false,
     "title": ""
    }
   },
   "outputs": [],
   "source": [
    "df_agendamentos = spark.read.option(\"infeschema\", \"true\").option(\"header\", \"true\").csv(f\"/mnt/{storageAccountName}/landing-zone/Agendamentos.csv\")\n",
    "df_cargas = spark.read.option(\"infeschema\", \"true\").option(\"header\", \"true\").csv(f\"/mnt/{storageAccountName}/landing-zone/Cargas.csv\")\n",
    "df_clientes = spark.read.option(\"infeschema\", \"true\").option(\"header\", \"true\").csv(f\"/mnt/{storageAccountName}/landing-zone/Clientes.csv\")\n",
    "df_motoristas = spark.read.option(\"infeschema\", \"true\").option(\"header\", \"true\").csv(f\"/mnt/{storageAccountName}/landing-zone/Motoristas.csv\") \n",
    "df_rotas = spark.read.option(\"infeschema\", \"true\").option(\"header\", \"true\").csv(f\"/mnt/{storageAccountName}/landing-zone/Rotas.csv\")\n",
    "df_veiculos = spark.read.option(\"infeschema\", \"true\").option(\"header\", \"true\").csv(f\"/mnt/{storageAccountName}/landing-zone/Veiculos.csv\")"
   ]
  },
  {
   "cell_type": "markdown",
   "metadata": {
    "application/vnd.databricks.v1+cell": {
     "cellMetadata": {
      "byteLimit": 2048000,
      "rowLimit": 10000
     },
     "inputWidgets": {},
     "nuid": "e4ffc23f-8add-4747-b572-b470a7e5eb8f",
     "showTitle": false,
     "title": ""
    }
   },
   "source": [
    "### Adicionando metadados de data e hora de processamento e nome do arquivo de origem"
   ]
  },
  {
   "cell_type": "code",
   "execution_count": 0,
   "metadata": {
    "application/vnd.databricks.v1+cell": {
     "cellMetadata": {
      "byteLimit": 2048000,
      "rowLimit": 10000
     },
     "inputWidgets": {},
     "nuid": "f278962e-c91a-4900-ba19-27d9b9e08947",
     "showTitle": false,
     "title": ""
    }
   },
   "outputs": [],
   "source": [
    "from pyspark.sql.functions import current_timestamp, lit\n",
    "\n",
    "df_agendamentos = df_agendamentos.withColumn(\"data_hora_bronze\", current_timestamp()).withColumn(\"nome_arquivo\", lit(\"Agendamentos.csv\"))\n",
    "df_cargas = df_cargas.withColumn(\"data_hora_bronze\", current_timestamp()).withColumn(\"nome_arquivo\", lit(\"Cargas.csv\"))\n",
    "df_clientes = df_clientes.withColumn(\"data_hora_bronze\", current_timestamp()).withColumn(\"nome_arquivo\", lit(\"Clientes.csv\"))\n",
    "df_motoristas = df_motoristas.withColumn(\"data_hora_bronze\", current_timestamp()).withColumn(\"nome_arquivo\", lit(\"Motoristas.csv\"))\n",
    "df_rotas = df_rotas.withColumn(\"data_hora_bronze\", current_timestamp()).withColumn(\"nome_arquivo\", lit(\"Rotas.csv\"))\n",
    "df_veiculos = df_veiculos.withColumn(\"data_hora_bronze\", current_timestamp()).withColumn(\"nome_arquivo\", lit(\"Veiculos.csv\"))\n"
   ]
  },
  {
   "cell_type": "markdown",
   "metadata": {
    "application/vnd.databricks.v1+cell": {
     "cellMetadata": {
      "byteLimit": 2048000,
      "rowLimit": 10000
     },
     "inputWidgets": {},
     "nuid": "8d908b82-ff93-4bb6-af69-ec5655308a8f",
     "showTitle": false,
     "title": ""
    }
   },
   "source": [
    "###Salvando os dataframes em delta lake (formato de arquivo) no data lake (repositorio cloud)"
   ]
  },
  {
   "cell_type": "code",
   "execution_count": 0,
   "metadata": {
    "application/vnd.databricks.v1+cell": {
     "cellMetadata": {
      "byteLimit": 2048000,
      "rowLimit": 10000
     },
     "inputWidgets": {},
     "nuid": "bb02cf44-9572-4ee1-8830-c3671012ec49",
     "showTitle": false,
     "title": ""
    }
   },
   "outputs": [],
   "source": [
    "df_agendamentos.write.format('delta').mode(\"overwrite\").option(\"overwriteSchema\", \"true\").save(f\"/mnt/{storageAccountName}/bronze/agendamentos\")\n",
    "df_cargas.write.format('delta').mode(\"overwrite\").option(\"overwriteSchema\", \"true\").save(f\"/mnt/{storageAccountName}/bronze/cargas\")\n",
    "df_clientes.write.format('delta').mode(\"overwrite\").option(\"overwriteSchema\", \"true\").save(f\"/mnt/{storageAccountName}/bronze/clientes\")\n",
    "df_motoristas.write.format('delta').mode(\"overwrite\").option(\"overwriteSchema\", \"true\").save(f\"/mnt/{storageAccountName}/bronze/motoristas\")\n",
    "df_rotas.write.format('delta').mode(\"overwrite\").option(\"overwriteSchema\", \"true\").save(f\"/mnt/{storageAccountName}/bronze/rotas\")\n",
    "df_veiculos.write.format('delta').mode(\"overwrite\").option(\"overwriteSchema\", \"true\").save(f\"/mnt/{storageAccountName}/bronze/veiculos\")"
   ]
  },
  {
   "cell_type": "markdown",
   "metadata": {
    "application/vnd.databricks.v1+cell": {
     "cellMetadata": {
      "byteLimit": 2048000,
      "rowLimit": 10000
     },
     "inputWidgets": {},
     "nuid": "511bb1d8-ea04-4a9c-93c4-6b8228f00830",
     "showTitle": false,
     "title": ""
    }
   },
   "source": [
    "###Verificando os dados gravados em delta na camada bronze"
   ]
  },
  {
   "cell_type": "code",
   "execution_count": 0,
   "metadata": {
    "application/vnd.databricks.v1+cell": {
     "cellMetadata": {
      "byteLimit": 2048000,
      "implicitDf": true,
      "rowLimit": 10000
     },
     "inputWidgets": {},
     "nuid": "6e8454d0-a9de-40dc-b55d-a8aa0156f93f",
     "showTitle": false,
     "title": ""
    }
   },
   "outputs": [
    {
     "output_type": "display_data",
     "data": {
      "text/html": [
       "<style scoped>\n",
       "  .table-result-container {\n",
       "    max-height: 300px;\n",
       "    overflow: auto;\n",
       "  }\n",
       "  table, th, td {\n",
       "    border: 1px solid black;\n",
       "    border-collapse: collapse;\n",
       "  }\n",
       "  th, td {\n",
       "    padding: 5px;\n",
       "  }\n",
       "  th {\n",
       "    text-align: left;\n",
       "  }\n",
       "</style><div class='table-result-container'><table class='table-result'><thead style='background-color: white'><tr><th>path</th><th>name</th><th>size</th><th>modificationTime</th></tr></thead><tbody><tr><td>dbfs:/mnt/datalake7a68c04c876ba15d/bronze/agendamentos/</td><td>agendamentos/</td><td>0</td><td>0</td></tr><tr><td>dbfs:/mnt/datalake7a68c04c876ba15d/bronze/cargas/</td><td>cargas/</td><td>0</td><td>0</td></tr><tr><td>dbfs:/mnt/datalake7a68c04c876ba15d/bronze/clientes/</td><td>clientes/</td><td>0</td><td>0</td></tr><tr><td>dbfs:/mnt/datalake7a68c04c876ba15d/bronze/motoristas/</td><td>motoristas/</td><td>0</td><td>0</td></tr><tr><td>dbfs:/mnt/datalake7a68c04c876ba15d/bronze/rotas/</td><td>rotas/</td><td>0</td><td>0</td></tr><tr><td>dbfs:/mnt/datalake7a68c04c876ba15d/bronze/veiculos/</td><td>veiculos/</td><td>0</td><td>0</td></tr></tbody></table></div>"
      ]
     },
     "metadata": {
      "application/vnd.databricks.v1+output": {
       "addedWidgets": {},
       "aggData": [],
       "aggError": "",
       "aggOverflow": false,
       "aggSchema": [],
       "aggSeriesLimitReached": false,
       "aggType": "",
       "arguments": {},
       "columnCustomDisplayInfos": {},
       "data": [
        [
         "dbfs:/mnt/datalake7a68c04c876ba15d/bronze/agendamentos/",
         "agendamentos/",
         0,
         0
        ],
        [
         "dbfs:/mnt/datalake7a68c04c876ba15d/bronze/cargas/",
         "cargas/",
         0,
         0
        ],
        [
         "dbfs:/mnt/datalake7a68c04c876ba15d/bronze/clientes/",
         "clientes/",
         0,
         0
        ],
        [
         "dbfs:/mnt/datalake7a68c04c876ba15d/bronze/motoristas/",
         "motoristas/",
         0,
         0
        ],
        [
         "dbfs:/mnt/datalake7a68c04c876ba15d/bronze/rotas/",
         "rotas/",
         0,
         0
        ],
        [
         "dbfs:/mnt/datalake7a68c04c876ba15d/bronze/veiculos/",
         "veiculos/",
         0,
         0
        ]
       ],
       "datasetInfos": [],
       "dbfsResultPath": null,
       "isJsonSchema": true,
       "metadata": {},
       "overflow": false,
       "plotOptions": {
        "customPlotOptions": {},
        "displayType": "table",
        "pivotAggregation": null,
        "pivotColumns": null,
        "xColumns": null,
        "yColumns": null
       },
       "removedWidgets": [],
       "schema": [
        {
         "metadata": "{}",
         "name": "path",
         "type": "\"string\""
        },
        {
         "metadata": "{}",
         "name": "name",
         "type": "\"string\""
        },
        {
         "metadata": "{}",
         "name": "size",
         "type": "\"long\""
        },
        {
         "metadata": "{}",
         "name": "modificationTime",
         "type": "\"long\""
        }
       ],
       "type": "table"
      }
     },
     "output_type": "display_data"
    }
   ],
   "source": [
    "display(dbutils.fs.ls(f\"/mnt/{storageAccountName}/bronze/\"))"
   ]
  },
  {
   "cell_type": "markdown",
   "metadata": {
    "application/vnd.databricks.v1+cell": {
     "cellMetadata": {
      "byteLimit": 2048000,
      "rowLimit": 10000
     },
     "inputWidgets": {},
     "nuid": "f6393fa5-64f2-4e8d-8358-617d0b55f035",
     "showTitle": false,
     "title": ""
    }
   },
   "source": [
    "### Lendo um exemplo de um delta lake para validar a existencia dos dados e das colunas do metadados"
   ]
  },
  {
   "cell_type": "code",
   "execution_count": 0,
   "metadata": {
    "application/vnd.databricks.v1+cell": {
     "cellMetadata": {
      "byteLimit": 2048000,
      "implicitDf": true,
      "rowLimit": 10000
     },
     "inputWidgets": {},
     "nuid": "84ef9829-3e0e-4807-bc1b-026324f6ed82",
     "showTitle": false,
     "title": ""
    }
   },
   "outputs": [
    {
     "output_type": "display_data",
     "data": {
      "text/html": [
       "<style scoped>\n",
       "  .table-result-container {\n",
       "    max-height: 300px;\n",
       "    overflow: auto;\n",
       "  }\n",
       "  table, th, td {\n",
       "    border: 1px solid black;\n",
       "    border-collapse: collapse;\n",
       "  }\n",
       "  th, td {\n",
       "    padding: 5px;\n",
       "  }\n",
       "  th {\n",
       "    text-align: left;\n",
       "  }\n",
       "</style><div class='table-result-container'><table class='table-result'><thead style='background-color: white'><tr><th>VeiculoID</th><th>TipoVeiculo</th><th>DataAquisicao</th><th>EstadoVeiculo</th><th>PlacaVeiculo</th><th>MotoristaID</th><th>data_hora_bronze</th><th>nome_arquivo</th></tr></thead><tbody><tr><td>1</td><td>caminhao</td><td>2023-09-13</td><td>Próximo a manutenção</td><td>MFC3479G</td><td>7290</td><td>2024-06-28T16:57:27.251Z</td><td>Veiculos.csv</td></tr><tr><td>2</td><td>caminhao</td><td>2019-09-06</td><td>Manutenção</td><td>ETC8083H</td><td>4176</td><td>2024-06-28T16:57:27.251Z</td><td>Veiculos.csv</td></tr><tr><td>3</td><td>caminhao</td><td>2021-11-28</td><td>Próximo a manutenção</td><td>LFY9976F</td><td>9940</td><td>2024-06-28T16:57:27.251Z</td><td>Veiculos.csv</td></tr><tr><td>4</td><td>caminhao</td><td>2024-04-26</td><td>Próximo a manutenção</td><td>JHF0759M</td><td>1087</td><td>2024-06-28T16:57:27.251Z</td><td>Veiculos.csv</td></tr><tr><td>5</td><td>caminhao</td><td>2022-05-24</td><td>Bom</td><td>OEP1666A</td><td>1479</td><td>2024-06-28T16:57:27.251Z</td><td>Veiculos.csv</td></tr><tr><td>6</td><td>caminhao</td><td>2022-01-01</td><td>Próximo a manutenção</td><td>VDW3967D</td><td>9139</td><td>2024-06-28T16:57:27.251Z</td><td>Veiculos.csv</td></tr><tr><td>7</td><td>caminhao</td><td>2020-03-05</td><td>Bom</td><td>LUL8938Q</td><td>1347</td><td>2024-06-28T16:57:27.251Z</td><td>Veiculos.csv</td></tr><tr><td>8</td><td>caminhao</td><td>2022-07-27</td><td>Próximo a manutenção</td><td>QYD6280L</td><td>4589</td><td>2024-06-28T16:57:27.251Z</td><td>Veiculos.csv</td></tr><tr><td>9</td><td>caminhao</td><td>2024-05-31</td><td>Manutenção</td><td>AVB7055D</td><td>1717</td><td>2024-06-28T16:57:27.251Z</td><td>Veiculos.csv</td></tr><tr><td>10</td><td>caminhao</td><td>2024-05-23</td><td>Manutenção</td><td>ZQR6073P</td><td>8098</td><td>2024-06-28T16:57:27.251Z</td><td>Veiculos.csv</td></tr></tbody></table></div>"
      ]
     },
     "metadata": {
      "application/vnd.databricks.v1+output": {
       "addedWidgets": {},
       "aggData": [],
       "aggError": "",
       "aggOverflow": false,
       "aggSchema": [],
       "aggSeriesLimitReached": false,
       "aggType": "",
       "arguments": {},
       "columnCustomDisplayInfos": {},
       "data": [
        [
         "1",
         "caminhao",
         "2023-09-13",
         "Próximo a manutenção",
         "MFC3479G",
         "7290",
         "2024-06-28T16:57:27.251Z",
         "Veiculos.csv"
        ],
        [
         "2",
         "caminhao",
         "2019-09-06",
         "Manutenção",
         "ETC8083H",
         "4176",
         "2024-06-28T16:57:27.251Z",
         "Veiculos.csv"
        ],
        [
         "3",
         "caminhao",
         "2021-11-28",
         "Próximo a manutenção",
         "LFY9976F",
         "9940",
         "2024-06-28T16:57:27.251Z",
         "Veiculos.csv"
        ],
        [
         "4",
         "caminhao",
         "2024-04-26",
         "Próximo a manutenção",
         "JHF0759M",
         "1087",
         "2024-06-28T16:57:27.251Z",
         "Veiculos.csv"
        ],
        [
         "5",
         "caminhao",
         "2022-05-24",
         "Bom",
         "OEP1666A",
         "1479",
         "2024-06-28T16:57:27.251Z",
         "Veiculos.csv"
        ],
        [
         "6",
         "caminhao",
         "2022-01-01",
         "Próximo a manutenção",
         "VDW3967D",
         "9139",
         "2024-06-28T16:57:27.251Z",
         "Veiculos.csv"
        ],
        [
         "7",
         "caminhao",
         "2020-03-05",
         "Bom",
         "LUL8938Q",
         "1347",
         "2024-06-28T16:57:27.251Z",
         "Veiculos.csv"
        ],
        [
         "8",
         "caminhao",
         "2022-07-27",
         "Próximo a manutenção",
         "QYD6280L",
         "4589",
         "2024-06-28T16:57:27.251Z",
         "Veiculos.csv"
        ],
        [
         "9",
         "caminhao",
         "2024-05-31",
         "Manutenção",
         "AVB7055D",
         "1717",
         "2024-06-28T16:57:27.251Z",
         "Veiculos.csv"
        ],
        [
         "10",
         "caminhao",
         "2024-05-23",
         "Manutenção",
         "ZQR6073P",
         "8098",
         "2024-06-28T16:57:27.251Z",
         "Veiculos.csv"
        ]
       ],
       "datasetInfos": [],
       "dbfsResultPath": null,
       "isJsonSchema": true,
       "metadata": {},
       "overflow": false,
       "plotOptions": {
        "customPlotOptions": {},
        "displayType": "table",
        "pivotAggregation": null,
        "pivotColumns": null,
        "xColumns": null,
        "yColumns": null
       },
       "removedWidgets": [],
       "schema": [
        {
         "metadata": "{}",
         "name": "VeiculoID",
         "type": "\"string\""
        },
        {
         "metadata": "{}",
         "name": "TipoVeiculo",
         "type": "\"string\""
        },
        {
         "metadata": "{}",
         "name": "DataAquisicao",
         "type": "\"string\""
        },
        {
         "metadata": "{}",
         "name": "EstadoVeiculo",
         "type": "\"string\""
        },
        {
         "metadata": "{}",
         "name": "PlacaVeiculo",
         "type": "\"string\""
        },
        {
         "metadata": "{}",
         "name": "MotoristaID",
         "type": "\"string\""
        },
        {
         "metadata": "{}",
         "name": "data_hora_bronze",
         "type": "\"timestamp\""
        },
        {
         "metadata": "{}",
         "name": "nome_arquivo",
         "type": "\"string\""
        }
       ],
       "type": "table"
      }
     },
     "output_type": "display_data"
    }
   ],
   "source": [
    "spark.read.format('delta').load(f'/mnt/{storageAccountName}/bronze/veiculos').limit(10).display()"
   ]
  }
 ],
 "metadata": {
  "application/vnd.databricks.v1+notebook": {
   "dashboards": [],
   "environmentMetadata": null,
   "language": "python",
   "notebookMetadata": {
    "mostRecentlyExecutedCommandWithImplicitDF": {
     "commandId": 3210653005600686,
     "dataframes": [
      "_sqldf"
     ]
    },
    "pythonIndentUnit": 4
   },
   "notebookName": "Lakehouse - Bronze",
   "widgets": {}
  }
 },
 "nbformat": 4,
 "nbformat_minor": 0
}
