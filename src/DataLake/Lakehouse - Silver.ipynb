{
 "cells": [
  {
   "cell_type": "code",
   "execution_count": 0,
   "metadata": {
    "application/vnd.databricks.v1+cell": {
     "cellMetadata": {
      "byteLimit": 2048000,
      "rowLimit": 10000
     },
     "inputWidgets": {},
     "nuid": "393ddb0d-4cff-4c82-9a02-dfaef5b57107",
     "showTitle": false,
     "title": ""
    }
   },
   "outputs": [
    {
     "output_type": "execute_result",
     "data": {
      "text/html": [
       "\n",
       "            <div>\n",
       "                <p><b>SparkSession - hive</b></p>\n",
       "                \n",
       "        <div>\n",
       "            <p><b>SparkContext</b></p>\n",
       "\n",
       "            <p><a href=\"/?o=4003071192899964#setting/sparkui/0621-173356-jtgj7nl/driver-680423322242539492\">Spark UI</a></p>\n",
       "\n",
       "            <dl>\n",
       "              <dt>Version</dt>\n",
       "                <dd><code>v3.5.0</code></dd>\n",
       "              <dt>Master</dt>\n",
       "                <dd><code>local[*, 4]</code></dd>\n",
       "              <dt>AppName</dt>\n",
       "                <dd><code>Databricks Shell</code></dd>\n",
       "            </dl>\n",
       "        </div>\n",
       "        \n",
       "            </div>\n",
       "        "
      ],
      "text/plain": [
       "<pyspark.sql.session.SparkSession at 0x7fb07718ee30>"
      ]
     },
     "execution_count": 1,
     "metadata": {},
     "output_type": "execute_result"
    }
   ],
   "source": [
    "spark"
   ]
  },
  {
   "cell_type": "markdown",
   "metadata": {
    "application/vnd.databricks.v1+cell": {
     "cellMetadata": {
      "byteLimit": 2048000,
      "rowLimit": 10000
     },
     "inputWidgets": {},
     "nuid": "f54980a7-6136-4ffb-a633-de105f2b71ad",
     "showTitle": false,
     "title": ""
    }
   },
   "source": [
    "###Mostrando os pontos de montagem no cluster Databricks"
   ]
  },
  {
   "cell_type": "code",
   "execution_count": 0,
   "metadata": {
    "application/vnd.databricks.v1+cell": {
     "cellMetadata": {
      "byteLimit": 2048000,
      "rowLimit": 10000
     },
     "inputWidgets": {},
     "nuid": "7780f49e-41a6-4c59-bccf-8bd604ede9d9",
     "showTitle": false,
     "title": ""
    }
   },
   "outputs": [
    {
     "output_type": "display_data",
     "data": {
      "text/html": [
       "<style scoped>\n",
       "  .table-result-container {\n",
       "    max-height: 300px;\n",
       "    overflow: auto;\n",
       "  }\n",
       "  table, th, td {\n",
       "    border: 1px solid black;\n",
       "    border-collapse: collapse;\n",
       "  }\n",
       "  th, td {\n",
       "    padding: 5px;\n",
       "  }\n",
       "  th {\n",
       "    text-align: left;\n",
       "  }\n",
       "</style><div class='table-result-container'><table class='table-result'><thead style='background-color: white'><tr><th>mountPoint</th><th>source</th><th>encryptionType</th></tr></thead><tbody><tr><td>/databricks-datasets</td><td>databricks-datasets</td><td></td></tr><tr><td>/Volumes</td><td>UnityCatalogVolumes</td><td></td></tr><tr><td>/mnt/datalake7a68c04c876ba15d/bronze</td><td>wasbs://bronze@datalake7a68c04c876ba15d.blob.core.windows.net</td><td></td></tr><tr><td>/databricks/mlflow-tracking</td><td>databricks/mlflow-tracking</td><td></td></tr><tr><td>/databricks-results</td><td>databricks-results</td><td></td></tr><tr><td>/databricks/mlflow-registry</td><td>databricks/mlflow-registry</td><td></td></tr><tr><td>/mnt/datalake7a68c04c876ba15d/silver</td><td>wasbs://silver@datalake7a68c04c876ba15d.blob.core.windows.net</td><td></td></tr><tr><td>/mnt/datalake7a68c04c876ba15d/landing-zone</td><td>wasbs://landing-zone@datalake7a68c04c876ba15d.blob.core.windows.net</td><td></td></tr><tr><td>/mnt/datalake7a68c04c876ba15d/gold</td><td>wasbs://gold@datalake7a68c04c876ba15d.blob.core.windows.net</td><td></td></tr><tr><td>/Volume</td><td>DbfsReserved</td><td></td></tr><tr><td>/volumes</td><td>DbfsReserved</td><td></td></tr><tr><td>/</td><td>DatabricksRoot</td><td></td></tr><tr><td>/volume</td><td>DbfsReserved</td><td></td></tr></tbody></table></div>"
      ]
     },
     "metadata": {
      "application/vnd.databricks.v1+output": {
       "addedWidgets": {},
       "aggData": [],
       "aggError": "",
       "aggOverflow": false,
       "aggSchema": [],
       "aggSeriesLimitReached": false,
       "aggType": "",
       "arguments": {},
       "columnCustomDisplayInfos": {},
       "data": [
        [
         "/databricks-datasets",
         "databricks-datasets",
         ""
        ],
        [
         "/Volumes",
         "UnityCatalogVolumes",
         ""
        ],
        [
         "/mnt/datalake7a68c04c876ba15d/bronze",
         "wasbs://bronze@datalake7a68c04c876ba15d.blob.core.windows.net",
         ""
        ],
        [
         "/databricks/mlflow-tracking",
         "databricks/mlflow-tracking",
         ""
        ],
        [
         "/databricks-results",
         "databricks-results",
         ""
        ],
        [
         "/databricks/mlflow-registry",
         "databricks/mlflow-registry",
         ""
        ],
        [
         "/mnt/datalake7a68c04c876ba15d/silver",
         "wasbs://silver@datalake7a68c04c876ba15d.blob.core.windows.net",
         ""
        ],
        [
         "/mnt/datalake7a68c04c876ba15d/landing-zone",
         "wasbs://landing-zone@datalake7a68c04c876ba15d.blob.core.windows.net",
         ""
        ],
        [
         "/mnt/datalake7a68c04c876ba15d/gold",
         "wasbs://gold@datalake7a68c04c876ba15d.blob.core.windows.net",
         ""
        ],
        [
         "/Volume",
         "DbfsReserved",
         ""
        ],
        [
         "/volumes",
         "DbfsReserved",
         ""
        ],
        [
         "/",
         "DatabricksRoot",
         ""
        ],
        [
         "/volume",
         "DbfsReserved",
         ""
        ]
       ],
       "datasetInfos": [],
       "dbfsResultPath": null,
       "isJsonSchema": true,
       "metadata": {},
       "overflow": false,
       "plotOptions": {
        "customPlotOptions": {},
        "displayType": "table",
        "pivotAggregation": null,
        "pivotColumns": null,
        "xColumns": null,
        "yColumns": null
       },
       "removedWidgets": [],
       "schema": [
        {
         "metadata": "{}",
         "name": "mountPoint",
         "type": "\"string\""
        },
        {
         "metadata": "{}",
         "name": "source",
         "type": "\"string\""
        },
        {
         "metadata": "{}",
         "name": "encryptionType",
         "type": "\"string\""
        }
       ],
       "type": "table"
      }
     },
     "output_type": "display_data"
    }
   ],
   "source": [
    "display(dbutils.fs.mounts())"
   ]
  },
  {
   "cell_type": "markdown",
   "metadata": {
    "application/vnd.databricks.v1+cell": {
     "cellMetadata": {
      "byteLimit": 2048000,
      "rowLimit": 10000
     },
     "inputWidgets": {},
     "nuid": "f11d3320-0d04-4b8b-aef8-59c55fa1a2b2",
     "showTitle": false,
     "title": ""
    }
   },
   "source": [
    "### Acessando nome da Storage Account"
   ]
  },
  {
   "cell_type": "code",
   "execution_count": 0,
   "metadata": {
    "application/vnd.databricks.v1+cell": {
     "cellMetadata": {
      "byteLimit": 2048000,
      "rowLimit": 10000
     },
     "inputWidgets": {},
     "nuid": "414efff4-8454-48b4-a713-b85ab6ab12c2",
     "showTitle": false,
     "title": ""
    }
   },
   "outputs": [],
   "source": [
    "storageAccountName = \"datalake7a68c04c876ba15d\""
   ]
  },
  {
   "cell_type": "markdown",
   "metadata": {
    "application/vnd.databricks.v1+cell": {
     "cellMetadata": {
      "byteLimit": 2048000,
      "rowLimit": 10000
     },
     "inputWidgets": {},
     "nuid": "66bff7b7-8c57-4c13-a40d-e2df7a2a9c58",
     "showTitle": false,
     "title": ""
    }
   },
   "source": [
    "###Desmontando os pontos de montagem não utilizados"
   ]
  },
  {
   "cell_type": "code",
   "execution_count": 0,
   "metadata": {
    "application/vnd.databricks.v1+cell": {
     "cellMetadata": {
      "byteLimit": 2048000,
      "rowLimit": 10000
     },
     "inputWidgets": {},
     "nuid": "1a1f1cb9-9155-4e15-810e-574225bd0a99",
     "showTitle": false,
     "title": ""
    },
    "jupyter": {
     "outputs_hidden": true
    }
   },
   "outputs": [
    {
     "output_type": "stream",
     "name": "stdout",
     "output_type": "stream",
     "text": [
      "/mnt/datalake7a68c04c876ba15d/landing-zone has been unmounted.\n"
     ]
    },
    {
     "output_type": "execute_result",
     "data": {
      "text/plain": [
       "True"
      ]
     },
     "execution_count": 4,
     "metadata": {},
     "output_type": "execute_result"
    }
   ],
   "source": [
    "dbutils.fs.unmount(f'/mnt/{storageAccountName}/landing-zone')"
   ]
  },
  {
   "cell_type": "markdown",
   "metadata": {
    "application/vnd.databricks.v1+cell": {
     "cellMetadata": {
      "byteLimit": 2048000,
      "rowLimit": 10000
     },
     "inputWidgets": {},
     "nuid": "da90e9c2-ddd3-482e-9426-dfa76f1e4c4d",
     "showTitle": false,
     "title": ""
    }
   },
   "source": [
    "###Mostrando os pontos de montagem no cluster Databricks"
   ]
  },
  {
   "cell_type": "code",
   "execution_count": 0,
   "metadata": {
    "application/vnd.databricks.v1+cell": {
     "cellMetadata": {
      "byteLimit": 2048000,
      "rowLimit": 10000
     },
     "inputWidgets": {},
     "nuid": "11e31c32-651c-4d80-aaef-6f1fa618510e",
     "showTitle": false,
     "title": ""
    }
   },
   "outputs": [
    {
     "output_type": "display_data",
     "data": {
      "text/html": [
       "<style scoped>\n",
       "  .table-result-container {\n",
       "    max-height: 300px;\n",
       "    overflow: auto;\n",
       "  }\n",
       "  table, th, td {\n",
       "    border: 1px solid black;\n",
       "    border-collapse: collapse;\n",
       "  }\n",
       "  th, td {\n",
       "    padding: 5px;\n",
       "  }\n",
       "  th {\n",
       "    text-align: left;\n",
       "  }\n",
       "</style><div class='table-result-container'><table class='table-result'><thead style='background-color: white'><tr><th>mountPoint</th><th>source</th><th>encryptionType</th></tr></thead><tbody><tr><td>/databricks-datasets</td><td>databricks-datasets</td><td></td></tr><tr><td>/Volumes</td><td>UnityCatalogVolumes</td><td></td></tr><tr><td>/mnt/datalake7a68c04c876ba15d/bronze</td><td>wasbs://bronze@datalake7a68c04c876ba15d.blob.core.windows.net</td><td></td></tr><tr><td>/databricks/mlflow-tracking</td><td>databricks/mlflow-tracking</td><td></td></tr><tr><td>/databricks-results</td><td>databricks-results</td><td></td></tr><tr><td>/databricks/mlflow-registry</td><td>databricks/mlflow-registry</td><td></td></tr><tr><td>/mnt/datalake7a68c04c876ba15d/silver</td><td>wasbs://silver@datalake7a68c04c876ba15d.blob.core.windows.net</td><td></td></tr><tr><td>/mnt/datalake7a68c04c876ba15d/gold</td><td>wasbs://gold@datalake7a68c04c876ba15d.blob.core.windows.net</td><td></td></tr><tr><td>/Volume</td><td>DbfsReserved</td><td></td></tr><tr><td>/volumes</td><td>DbfsReserved</td><td></td></tr><tr><td>/</td><td>DatabricksRoot</td><td></td></tr><tr><td>/volume</td><td>DbfsReserved</td><td></td></tr></tbody></table></div>"
      ]
     },
     "metadata": {
      "application/vnd.databricks.v1+output": {
       "addedWidgets": {},
       "aggData": [],
       "aggError": "",
       "aggOverflow": false,
       "aggSchema": [],
       "aggSeriesLimitReached": false,
       "aggType": "",
       "arguments": {},
       "columnCustomDisplayInfos": {},
       "data": [
        [
         "/databricks-datasets",
         "databricks-datasets",
         ""
        ],
        [
         "/Volumes",
         "UnityCatalogVolumes",
         ""
        ],
        [
         "/mnt/datalake7a68c04c876ba15d/bronze",
         "wasbs://bronze@datalake7a68c04c876ba15d.blob.core.windows.net",
         ""
        ],
        [
         "/databricks/mlflow-tracking",
         "databricks/mlflow-tracking",
         ""
        ],
        [
         "/databricks-results",
         "databricks-results",
         ""
        ],
        [
         "/databricks/mlflow-registry",
         "databricks/mlflow-registry",
         ""
        ],
        [
         "/mnt/datalake7a68c04c876ba15d/silver",
         "wasbs://silver@datalake7a68c04c876ba15d.blob.core.windows.net",
         ""
        ],
        [
         "/mnt/datalake7a68c04c876ba15d/gold",
         "wasbs://gold@datalake7a68c04c876ba15d.blob.core.windows.net",
         ""
        ],
        [
         "/Volume",
         "DbfsReserved",
         ""
        ],
        [
         "/volumes",
         "DbfsReserved",
         ""
        ],
        [
         "/",
         "DatabricksRoot",
         ""
        ],
        [
         "/volume",
         "DbfsReserved",
         ""
        ]
       ],
       "datasetInfos": [],
       "dbfsResultPath": null,
       "isJsonSchema": true,
       "metadata": {},
       "overflow": false,
       "plotOptions": {
        "customPlotOptions": {},
        "displayType": "table",
        "pivotAggregation": null,
        "pivotColumns": null,
        "xColumns": null,
        "yColumns": null
       },
       "removedWidgets": [],
       "schema": [
        {
         "metadata": "{}",
         "name": "mountPoint",
         "type": "\"string\""
        },
        {
         "metadata": "{}",
         "name": "source",
         "type": "\"string\""
        },
        {
         "metadata": "{}",
         "name": "encryptionType",
         "type": "\"string\""
        }
       ],
       "type": "table"
      }
     },
     "output_type": "display_data"
    }
   ],
   "source": [
    "display(dbutils.fs.mounts())"
   ]
  },
  {
   "cell_type": "markdown",
   "metadata": {
    "application/vnd.databricks.v1+cell": {
     "cellMetadata": {
      "byteLimit": 2048000,
      "rowLimit": 10000
     },
     "inputWidgets": {},
     "nuid": "3efe3c2e-3289-4d2e-83cc-9c209ac98971",
     "showTitle": false,
     "title": ""
    }
   },
   "source": [
    "## Transformações de dados"
   ]
  },
  {
   "cell_type": "markdown",
   "metadata": {
    "application/vnd.databricks.v1+cell": {
     "cellMetadata": {
      "byteLimit": 2048000,
      "rowLimit": 10000
     },
     "inputWidgets": {},
     "nuid": "1f6ec630-db65-41cb-9fdf-a941cfafe400",
     "showTitle": false,
     "title": ""
    }
   },
   "source": [
    "### Mostrando todos os arquivos da camada bronze"
   ]
  },
  {
   "cell_type": "code",
   "execution_count": 0,
   "metadata": {
    "application/vnd.databricks.v1+cell": {
     "cellMetadata": {
      "byteLimit": 2048000,
      "rowLimit": 10000
     },
     "inputWidgets": {},
     "nuid": "295f6535-5ab1-43af-a1d3-fadec36b766b",
     "showTitle": false,
     "title": ""
    }
   },
   "outputs": [
    {
     "output_type": "display_data",
     "data": {
      "text/html": [
       "<style scoped>\n",
       "  .table-result-container {\n",
       "    max-height: 300px;\n",
       "    overflow: auto;\n",
       "  }\n",
       "  table, th, td {\n",
       "    border: 1px solid black;\n",
       "    border-collapse: collapse;\n",
       "  }\n",
       "  th, td {\n",
       "    padding: 5px;\n",
       "  }\n",
       "  th {\n",
       "    text-align: left;\n",
       "  }\n",
       "</style><div class='table-result-container'><table class='table-result'><thead style='background-color: white'><tr><th>path</th><th>name</th><th>size</th><th>modificationTime</th></tr></thead><tbody><tr><td>dbfs:/mnt/datalake7a68c04c876ba15d/bronze/agendamentos/</td><td>agendamentos/</td><td>0</td><td>0</td></tr><tr><td>dbfs:/mnt/datalake7a68c04c876ba15d/bronze/cargas/</td><td>cargas/</td><td>0</td><td>0</td></tr><tr><td>dbfs:/mnt/datalake7a68c04c876ba15d/bronze/clientes/</td><td>clientes/</td><td>0</td><td>0</td></tr><tr><td>dbfs:/mnt/datalake7a68c04c876ba15d/bronze/motoristas/</td><td>motoristas/</td><td>0</td><td>0</td></tr><tr><td>dbfs:/mnt/datalake7a68c04c876ba15d/bronze/rotas/</td><td>rotas/</td><td>0</td><td>0</td></tr><tr><td>dbfs:/mnt/datalake7a68c04c876ba15d/bronze/veiculos/</td><td>veiculos/</td><td>0</td><td>0</td></tr></tbody></table></div>"
      ]
     },
     "metadata": {
      "application/vnd.databricks.v1+output": {
       "addedWidgets": {},
       "aggData": [],
       "aggError": "",
       "aggOverflow": false,
       "aggSchema": [],
       "aggSeriesLimitReached": false,
       "aggType": "",
       "arguments": {},
       "columnCustomDisplayInfos": {},
       "data": [
        [
         "dbfs:/mnt/datalake7a68c04c876ba15d/bronze/agendamentos/",
         "agendamentos/",
         0,
         0
        ],
        [
         "dbfs:/mnt/datalake7a68c04c876ba15d/bronze/cargas/",
         "cargas/",
         0,
         0
        ],
        [
         "dbfs:/mnt/datalake7a68c04c876ba15d/bronze/clientes/",
         "clientes/",
         0,
         0
        ],
        [
         "dbfs:/mnt/datalake7a68c04c876ba15d/bronze/motoristas/",
         "motoristas/",
         0,
         0
        ],
        [
         "dbfs:/mnt/datalake7a68c04c876ba15d/bronze/rotas/",
         "rotas/",
         0,
         0
        ],
        [
         "dbfs:/mnt/datalake7a68c04c876ba15d/bronze/veiculos/",
         "veiculos/",
         0,
         0
        ]
       ],
       "datasetInfos": [],
       "dbfsResultPath": null,
       "isJsonSchema": true,
       "metadata": {},
       "overflow": false,
       "plotOptions": {
        "customPlotOptions": {},
        "displayType": "table",
        "pivotAggregation": null,
        "pivotColumns": null,
        "xColumns": null,
        "yColumns": null
       },
       "removedWidgets": [],
       "schema": [
        {
         "metadata": "{}",
         "name": "path",
         "type": "\"string\""
        },
        {
         "metadata": "{}",
         "name": "name",
         "type": "\"string\""
        },
        {
         "metadata": "{}",
         "name": "size",
         "type": "\"long\""
        },
        {
         "metadata": "{}",
         "name": "modificationTime",
         "type": "\"long\""
        }
       ],
       "type": "table"
      }
     },
     "output_type": "display_data"
    }
   ],
   "source": [
    "display(dbutils.fs.ls(f\"/mnt/{storageAccountName}/bronze\"))"
   ]
  },
  {
   "cell_type": "markdown",
   "metadata": {
    "application/vnd.databricks.v1+cell": {
     "cellMetadata": {
      "byteLimit": 2048000,
      "rowLimit": 10000
     },
     "inputWidgets": {},
     "nuid": "1ef3c883-3b0f-44cb-8917-49f1f1fd3819",
     "showTitle": false,
     "title": ""
    }
   },
   "source": [
    "###Gerando um dataframe dos delta lake no container bronze do Azure Data Lake Storage"
   ]
  },
  {
   "cell_type": "code",
   "execution_count": 0,
   "metadata": {
    "application/vnd.databricks.v1+cell": {
     "cellMetadata": {
      "byteLimit": 2048000,
      "rowLimit": 10000
     },
     "inputWidgets": {},
     "nuid": "37774595-e2cd-4ba0-92aa-4a6f239c0e7b",
     "showTitle": false,
     "title": ""
    }
   },
   "outputs": [],
   "source": [
    "df_agendamentos = spark.read.format('delta').load(f\"/mnt/{storageAccountName}/bronze/agendamentos\")\n",
    "df_cargas = spark.read.format('delta').load(f\"/mnt/{storageAccountName}/bronze/cargas\")\n",
    "df_clientes = spark.read.format('delta').load(f\"/mnt/{storageAccountName}/bronze/clientes\")\n",
    "df_motoristas = spark.read.format('delta').load(f\"/mnt/{storageAccountName}/bronze/motoristas\")\n",
    "df_rotas = spark.read.format('delta').load(f\"/mnt/{storageAccountName}/bronze/rotas\")\n",
    "df_veiculos = spark.read.format('delta').load(f\"/mnt/{storageAccountName}/bronze/veiculos\")"
   ]
  },
  {
   "cell_type": "markdown",
   "metadata": {
    "application/vnd.databricks.v1+cell": {
     "cellMetadata": {
      "byteLimit": 2048000,
      "rowLimit": 10000
     },
     "inputWidgets": {},
     "nuid": "e4ffc23f-8add-4747-b572-b470a7e5eb8f",
     "showTitle": false,
     "title": ""
    }
   },
   "source": [
    "### Adicionando metadados de data e hora de processamento e nome do arquivo de origem"
   ]
  },
  {
   "cell_type": "code",
   "execution_count": 0,
   "metadata": {
    "application/vnd.databricks.v1+cell": {
     "cellMetadata": {
      "byteLimit": 2048000,
      "rowLimit": 10000
     },
     "inputWidgets": {},
     "nuid": "f278962e-c91a-4900-ba19-27d9b9e08947",
     "showTitle": false,
     "title": ""
    }
   },
   "outputs": [],
   "source": [
    "from pyspark.sql.functions import current_timestamp, lit\n",
    "\n",
    "df_agendamentos   = df_agendamentos.withColumn(\"data_hora_silver\", current_timestamp()).withColumn(\"nome_arquivo\", lit(\"agendamentos\"))\n",
    "df_cargas     = df_cargas.withColumn(\"data_hora_silver\", current_timestamp()).withColumn(\"nome_arquivo\", lit(\"cargas\"))\n",
    "df_clientes   = df_clientes.withColumn(\"data_hora_silver\", current_timestamp()).withColumn(\"nome_arquivo\", lit(\"clientes\"))\n",
    "df_motoristas  = df_motoristas.withColumn(\"data_hora_silver\", current_timestamp()).withColumn(\"nome_arquivo\", lit(\"motoristas\"))\n",
    "df_rotas    = df_rotas.withColumn(\"data_hora_silver\", current_timestamp()).withColumn(\"nome_arquivo\", lit(\"rotas\"))\n",
    "df_veiculos     = df_veiculos.withColumn(\"data_hora_silver\", current_timestamp()).withColumn(\"nome_arquivo\", lit(\"veiculos\"))\n"
   ]
  },
  {
   "cell_type": "markdown",
   "metadata": {
    "application/vnd.databricks.v1+cell": {
     "cellMetadata": {
      "byteLimit": 2048000,
      "rowLimit": 10000
     },
     "inputWidgets": {},
     "nuid": "9335815b-0449-472d-af38-4729d26a54c6",
     "showTitle": false,
     "title": ""
    }
   },
   "source": [
    "###Mudando as colunas para conter somente letras minúsculas e retirando abreviações"
   ]
  },
  {
   "cell_type": "code",
   "execution_count": 0,
   "metadata": {
    "application/vnd.databricks.v1+cell": {
     "cellMetadata": {
      "byteLimit": 2048000,
      "rowLimit": 10000
     },
     "inputWidgets": {},
     "nuid": "a1fd697a-b470-4d9e-a5fe-116e518716cc",
     "showTitle": false,
     "title": ""
    }
   },
   "outputs": [],
   "source": [
    "import re\n",
    "\n",
    "def atualizar_colunas(df):\n",
    "    colunas = df.columns\n",
    "    for coluna in colunas:\n",
    "        if coluna.lower() == coluna:\n",
    "            continue\n",
    "        nova_coluna = coluna\n",
    "        if \"ID\" in nova_coluna:\n",
    "            position = nova_coluna.find(\"ID\")\n",
    "            nova_coluna = \"Codigo\"+nova_coluna[:position]\n",
    "        nova_coluna = \"_\".join(re.findall('[A-Z][^A-Z]*', nova_coluna)).lower()\n",
    "        df = df.withColumnRenamed(coluna, nova_coluna)\n",
    "    return df\n",
    "\n",
    "df_agendamentos = atualizar_colunas(df_agendamentos)\n",
    "df_cargas = atualizar_colunas(df_cargas)\n",
    "df_clientes = atualizar_colunas(df_clientes)\n",
    "df_motoristas = atualizar_colunas(df_motoristas)\n",
    "df_rotas = atualizar_colunas(df_rotas)\n",
    "df_veiculos = atualizar_colunas(df_veiculos)"
   ]
  },
  {
   "cell_type": "markdown",
   "metadata": {
    "application/vnd.databricks.v1+cell": {
     "cellMetadata": {
      "byteLimit": 2048000,
      "rowLimit": 10000
     },
     "inputWidgets": {},
     "nuid": "033e04b7-042b-4d9a-a3f7-9462f946ee19",
     "showTitle": false,
     "title": ""
    }
   },
   "source": [
    "### Separando endereço do cliente"
   ]
  },
  {
   "cell_type": "code",
   "execution_count": 0,
   "metadata": {
    "application/vnd.databricks.v1+cell": {
     "cellMetadata": {
      "byteLimit": 2048000,
      "rowLimit": 10000
     },
     "inputWidgets": {},
     "nuid": "f1057c1a-de4f-4e4e-b397-c4aa11f5eba6",
     "showTitle": false,
     "title": ""
    }
   },
   "outputs": [
    {
     "output_type": "execute_result",
     "data": {
      "text/plain": [
       "Index(['codigo_cliente', 'nome_cliente', 'contato_cliente', 'tipo_cliente',\n",
       "       'data_hora_bronze', 'nome_arquivo', 'data_hora_silver',\n",
       "       'logradouro_cliente', 'numero_residencia_cliente', 'bairro_cliente',\n",
       "       'cep_cliente', 'cidade_cliente', 'uf_cliente'],\n",
       "      dtype='object')"
      ]
     },
     "execution_count": 10,
     "metadata": {},
     "output_type": "execute_result"
    }
   ],
   "source": [
    "import pyspark.pandas as ps\n",
    "ps.set_option('compute.ops_on_diff_frames', True)\n",
    "\n",
    "pd_clientes = ps.DataFrame(df_clientes)\n",
    "\n",
    "def separar_endereco(r):\n",
    "    endereco = r['endereco_cliente']\n",
    "    endereco = endereco.split(',')\n",
    "    if len(endereco) == 4:\n",
    "        logradouro = endereco[0].strip()\n",
    "        numero_residencia = endereco[1].strip()\n",
    "        bairro = endereco[2].strip()\n",
    "        cep_cidade_uf = endereco[3].strip()\n",
    "    else:\n",
    "        logradouro = endereco[0].strip()\n",
    "        numero_residencia = \"S/N\"\n",
    "        bairro = endereco[1].strip()\n",
    "        cep_cidade_uf = endereco[2].strip()\n",
    "    \n",
    "    cep_cidade_uf = cep_cidade_uf.split('/')\n",
    "    cep_cidade = cep_cidade_uf[0].strip()\n",
    "    uf = cep_cidade_uf[1].strip()\n",
    "    cep = cep_cidade.split(' ')[0].strip()\n",
    "    cep = ''.join(cep.split('-'))\n",
    "    cidade = cep_cidade[len(cep) + 1:].strip()\n",
    "\n",
    "    return [logradouro, numero_residencia, bairro, cep, cidade, uf]\n",
    "\n",
    "endereco = pd_clientes.apply(separar_endereco, axis=1)\n",
    "\n",
    "endereco_df = ps.DataFrame(endereco.tolist(), columns=['logradouro_cliente', 'numero_residencia_cliente', 'bairro_cliente', 'cep_cliente', 'cidade_cliente', 'uf_cliente'])\n",
    "pd_clientes = ps.concat([pd_clientes, endereco_df], axis=1)\n",
    "pd_clientes = pd_clientes.drop(columns=\"endereco_cliente\")\n",
    "pd_clientes.columns"
   ]
  },
  {
   "cell_type": "markdown",
   "metadata": {
    "application/vnd.databricks.v1+cell": {
     "cellMetadata": {
      "byteLimit": 2048000,
      "rowLimit": 10000
     },
     "inputWidgets": {},
     "nuid": "774d55ac-a4a5-43ea-aaf6-d38bc1baea3c",
     "showTitle": false,
     "title": ""
    }
   },
   "source": [
    "### Padronizando colunas de contato para somente número"
   ]
  },
  {
   "cell_type": "code",
   "execution_count": 0,
   "metadata": {
    "application/vnd.databricks.v1+cell": {
     "cellMetadata": {
      "byteLimit": 2048000,
      "rowLimit": 10000
     },
     "inputWidgets": {},
     "nuid": "a33c0f57-ce12-42db-a797-f89f9a34ee79",
     "showTitle": false,
     "title": ""
    }
   },
   "outputs": [],
   "source": [
    "def padronizar_contato(r, coluna):\n",
    "    contato = r[coluna]\n",
    "    contato = re.sub('[^0-9]', '', contato)\n",
    "    return contato\n",
    "\n",
    "pd_clientes[\"contato_cliente\"] = pd_clientes.apply(lambda row: padronizar_contato(row, \"contato_cliente\"), axis=1)\n",
    "\n",
    "pd_motoristas = ps.DataFrame(df_motoristas)\n",
    "pd_motoristas[\"telefone\"] = pd_motoristas.apply(lambda row: padronizar_contato(row, \"telefone\"), axis=1)\n"
   ]
  },
  {
   "cell_type": "markdown",
   "metadata": {
    "application/vnd.databricks.v1+cell": {
     "cellMetadata": {
      "byteLimit": 2048000,
      "rowLimit": 10000
     },
     "inputWidgets": {},
     "nuid": "89ee2473-3cd6-4917-9c84-944853fd08dc",
     "showTitle": false,
     "title": ""
    }
   },
   "source": []
  },
  {
   "cell_type": "code",
   "execution_count": 0,
   "metadata": {
    "application/vnd.databricks.v1+cell": {
     "cellMetadata": {
      "byteLimit": 2048000,
      "rowLimit": 10000
     },
     "inputWidgets": {},
     "nuid": "f7cf8810-39ae-45c2-96ad-013a44c1f0bb",
     "showTitle": false,
     "title": ""
    }
   },
   "outputs": [
    {
     "output_type": "stream",
     "name": "stdout",
     "output_type": "stream",
     "text": [
      "+---------------+----------------+\n|contato_cliente|  cidade_cliente|\n+---------------+----------------+\n|    07178156593|  Brito de Minas|\n|     3171484185|Borges de Barros|\n|     4133969477| Santos do Galho|\n|  5506198910139|         Sampaio|\n|    03156208709|Azevedo de Goiás|\n+---------------+----------------+\nonly showing top 5 rows\n\n"
     ]
    }
   ],
   "source": [
    "\n",
    "df_clientes = pd_clientes.to_spark()\n",
    "df_clientes.select([\"contato_cliente\", \"cidade_cliente\"]).show(5)"
   ]
  },
  {
   "cell_type": "code",
   "execution_count": 0,
   "metadata": {
    "application/vnd.databricks.v1+cell": {
     "cellMetadata": {
      "byteLimit": 2048000,
      "rowLimit": 10000
     },
     "inputWidgets": {},
     "nuid": "cc5006a7-5efd-4087-b9f0-ff889322c534",
     "showTitle": false,
     "title": ""
    }
   },
   "outputs": [
    {
     "output_type": "stream",
     "name": "stdout",
     "output_type": "stream",
     "text": [
      "+-------------+\n|     telefone|\n+-------------+\n|  02104651614|\n|5508120031041|\n| 552135315362|\n|   7123723313|\n| 555183607614|\n+-------------+\nonly showing top 5 rows\n\n"
     ]
    }
   ],
   "source": [
    "df_motoristas = pd_motoristas.to_spark()\n",
    "df_motoristas.select(\"telefone\").show(5)"
   ]
  },
  {
   "cell_type": "markdown",
   "metadata": {
    "application/vnd.databricks.v1+cell": {
     "cellMetadata": {
      "byteLimit": 2048000,
      "rowLimit": 10000
     },
     "inputWidgets": {},
     "nuid": "4c76189a-71f5-4240-b861-f8c8be58e3bd",
     "showTitle": false,
     "title": ""
    }
   },
   "source": [
    "### Mudando tempo_estimado para minutos"
   ]
  },
  {
   "cell_type": "code",
   "execution_count": 0,
   "metadata": {
    "application/vnd.databricks.v1+cell": {
     "cellMetadata": {
      "byteLimit": 2048000,
      "rowLimit": 10000
     },
     "inputWidgets": {},
     "nuid": "63ae435e-9b3e-4fb4-82c6-b42041990a2c",
     "showTitle": false,
     "title": ""
    }
   },
   "outputs": [
    {
     "output_type": "stream",
     "name": "stdout",
     "output_type": "stream",
     "text": [
      "+--------------+\n|tempo_estimado|\n+--------------+\n|          1138|\n|           338|\n|           336|\n|           289|\n|          1083|\n+--------------+\nonly showing top 5 rows\n\n"
     ]
    }
   ],
   "source": [
    "def tempo_em_minutos(r):\n",
    "    tempo_estimado = r[\"tempo_estimado\"]\n",
    "    tempo_estimado = tempo_estimado.split(\":\")\n",
    "    horas = int(tempo_estimado[0])\n",
    "    minutos = int(tempo_estimado[1])\n",
    "    minutos += horas * 60\n",
    "    return minutos\n",
    "\n",
    "pd_rotas = ps.DataFrame(df_rotas)\n",
    "pd_rotas[\"tempo_estimado\"] = pd_rotas.apply(tempo_em_minutos, axis=1)\n",
    "df_rotas = pd_rotas.to_spark()\n",
    "df_rotas.select(\"tempo_estimado\").show(5)"
   ]
  },
  {
   "cell_type": "markdown",
   "metadata": {
    "application/vnd.databricks.v1+cell": {
     "cellMetadata": {
      "byteLimit": 2048000,
      "rowLimit": 10000
     },
     "inputWidgets": {},
     "nuid": "61b99939-65e0-449f-bd37-4e6d4faca0b8",
     "showTitle": false,
     "title": ""
    }
   },
   "source": [
    "### Ajustando tipo dos dados"
   ]
  },
  {
   "cell_type": "markdown",
   "metadata": {
    "application/vnd.databricks.v1+cell": {
     "cellMetadata": {
      "byteLimit": 2048000,
      "rowLimit": 10000
     },
     "inputWidgets": {},
     "nuid": "d1afa8c1-1596-476c-9ad7-ae544099794e",
     "showTitle": false,
     "title": ""
    }
   },
   "source": [
    "#### Visualizando tipos"
   ]
  },
  {
   "cell_type": "code",
   "execution_count": 0,
   "metadata": {
    "application/vnd.databricks.v1+cell": {
     "cellMetadata": {
      "byteLimit": 2048000,
      "rowLimit": 10000
     },
     "inputWidgets": {},
     "nuid": "42910c85-064e-456b-856c-d528df65688b",
     "showTitle": false,
     "title": ""
    }
   },
   "outputs": [
    {
     "output_type": "stream",
     "name": "stdout",
     "output_type": "stream",
     "text": [
      "agendamentos:  DataFrame[summary: string, codigo_agendamento: string, data_hora_coleta: string, data_hora_entrega: string, codigo_veiculo: string, codigo_carga: string, codigo_rota: string, codigo_cliente: string, nome_arquivo: string] \n\ncargas:  DataFrame[summary: string, codigo_carga: string, tipo_carga: string, peso_carga: string, comprimento: string, largura: string, altura: string, data_entrega_prevista: string, nome_arquivo: string] \n\nclientes:  DataFrame[summary: string, codigo_cliente: string, nome_cliente: string, contato_cliente: string, tipo_cliente: string, nome_arquivo: string, logradouro_cliente: string, numero_residencia_cliente: string, bairro_cliente: string, cep_cliente: string, cidade_cliente: string, uf_cliente: string] \n\nmotoristas:  DataFrame[summary: string, codigo_motorista: string, nome: string, telefone: string, numero_carteira: string, data_contratacao: string, categoria_carteira: string, status: string, nome_arquivo: string] \n\nrotas:  DataFrame[summary: string, codigo_rota: string, origem: string, destino: string, distancia: string, tempo_estimado: string, restricoes_trafego: string, nome_arquivo: string] \n\nveiculos:  DataFrame[summary: string, codigo_veiculo: string, tipo_veiculo: string, data_aquisicao: string, estado_veiculo: string, placa_veiculo: string, codigo_motorista: string, nome_arquivo: string] \n\n"
     ]
    }
   ],
   "source": [
    "print(\"agendamentos: \", df_agendamentos.describe(), \"\\n\")\n",
    "print(\"cargas: \", df_cargas.describe(), \"\\n\") \n",
    "print(\"clientes: \", df_clientes.describe(), \"\\n\") \n",
    "print(\"motoristas: \", df_motoristas.describe(), \"\\n\") \n",
    "print(\"rotas: \", df_rotas.describe(), \"\\n\") \n",
    "print(\"veiculos: \", df_veiculos.describe(), \"\\n\")"
   ]
  },
  {
   "cell_type": "markdown",
   "metadata": {
    "application/vnd.databricks.v1+cell": {
     "cellMetadata": {
      "byteLimit": 2048000,
      "rowLimit": 10000
     },
     "inputWidgets": {},
     "nuid": "140fe200-4260-4a9d-be07-7fadebc4f634",
     "showTitle": false,
     "title": ""
    }
   },
   "source": [
    "#### Tipos Cargas"
   ]
  },
  {
   "cell_type": "code",
   "execution_count": 0,
   "metadata": {
    "application/vnd.databricks.v1+cell": {
     "cellMetadata": {
      "byteLimit": 2048000,
      "rowLimit": 10000
     },
     "inputWidgets": {},
     "nuid": "085d17be-788c-4fe2-b0d6-97d5819a5df4",
     "showTitle": false,
     "title": ""
    }
   },
   "outputs": [],
   "source": [
    "from pyspark.sql.types import FloatType\n",
    "df_cargas = df_cargas \\\n",
    "  .withColumn(\"peso_carga\" ,\n",
    "              df_cargas[\"peso_carga\"]\n",
    "              .cast(FloatType()))   \\\n",
    "  .withColumn(\"comprimento\",\n",
    "              df_cargas[\"comprimento\"]\n",
    "              .cast(FloatType()))    \\\n",
    "  .withColumn(\"largura\"  ,\n",
    "              df_cargas[\"largura\"]\n",
    "              .cast(FloatType())) \\\n",
    "  .withColumn(\"altura\"  ,\n",
    "              df_cargas[\"altura\"]\n",
    "              .cast(FloatType())) "
   ]
  },
  {
   "cell_type": "markdown",
   "metadata": {
    "application/vnd.databricks.v1+cell": {
     "cellMetadata": {
      "byteLimit": 2048000,
      "rowLimit": 10000
     },
     "inputWidgets": {},
     "nuid": "426c265e-bcc0-4afb-a1d9-281044737dc2",
     "showTitle": false,
     "title": ""
    }
   },
   "source": [
    "#### Tipos Rotas"
   ]
  },
  {
   "cell_type": "code",
   "execution_count": 0,
   "metadata": {
    "application/vnd.databricks.v1+cell": {
     "cellMetadata": {
      "byteLimit": 2048000,
      "rowLimit": 10000
     },
     "inputWidgets": {},
     "nuid": "564d27b0-90dc-4e47-9c9e-03da277e2491",
     "showTitle": false,
     "title": ""
    }
   },
   "outputs": [],
   "source": [
    "df_rotas = df_rotas \\\n",
    "  .withColumn(\"distancia\" ,\n",
    "              df_rotas[\"distancia\"]\n",
    "              .cast(FloatType()))   "
   ]
  },
  {
   "cell_type": "markdown",
   "metadata": {
    "application/vnd.databricks.v1+cell": {
     "cellMetadata": {},
     "inputWidgets": {},
     "nuid": "5ec20c99-5957-49f1-8ef0-209b74ab8380",
     "showTitle": false,
     "title": ""
    }
   },
   "source": [
    "### Apagando coluna nula do DataFrame Rotas"
   ]
  },
  {
   "cell_type": "code",
   "execution_count": 0,
   "metadata": {
    "application/vnd.databricks.v1+cell": {
     "cellMetadata": {
      "byteLimit": 2048000,
      "rowLimit": 10000
     },
     "inputWidgets": {},
     "nuid": "1ec46950-38bd-4044-8bc3-0f10c5bf1caa",
     "showTitle": false,
     "title": ""
    }
   },
   "outputs": [
    {
     "output_type": "execute_result",
     "data": {
      "text/plain": [
       "['codigo_rota',\n",
       " 'origem',\n",
       " 'destino',\n",
       " 'distancia',\n",
       " 'tempo_estimado',\n",
       " 'data_hora_bronze',\n",
       " 'nome_arquivo',\n",
       " 'data_hora_silver']"
      ]
     },
     "execution_count": 18,
     "metadata": {},
     "output_type": "execute_result"
    }
   ],
   "source": [
    "df_rotas = df_rotas.drop(\"restricoes_trafego\")\n",
    "df_rotas.columns"
   ]
  },
  {
   "cell_type": "markdown",
   "metadata": {
    "application/vnd.databricks.v1+cell": {
     "cellMetadata": {
      "byteLimit": 2048000,
      "rowLimit": 10000
     },
     "inputWidgets": {},
     "nuid": "5823dc1e-0fea-49e6-997d-d875013fffa1",
     "showTitle": false,
     "title": ""
    }
   },
   "source": []
  },
  {
   "cell_type": "markdown",
   "metadata": {
    "application/vnd.databricks.v1+cell": {
     "cellMetadata": {
      "byteLimit": 2048000,
      "rowLimit": 10000
     },
     "inputWidgets": {},
     "nuid": "8d908b82-ff93-4bb6-af69-ec5655308a8f",
     "showTitle": false,
     "title": ""
    }
   },
   "source": [
    "###Salvando os dataframes em delta lake (formato de arquivo) no data lake (repositorio cloud)"
   ]
  },
  {
   "cell_type": "code",
   "execution_count": 0,
   "metadata": {
    "application/vnd.databricks.v1+cell": {
     "cellMetadata": {
      "byteLimit": 2048000,
      "rowLimit": 10000
     },
     "inputWidgets": {},
     "nuid": "84068650-36d3-472e-9e52-89f5e3ef5f88",
     "showTitle": false,
     "title": ""
    }
   },
   "outputs": [],
   "source": [
    "df_agendamentos.write.format('delta').mode(\"overwrite\").option(\"overwriteSchema\", \"true\").save(f\"/mnt/{storageAccountName}/silver/agendamentos\"),\n",
    "df_cargas.write.format('delta').mode(\"overwrite\").option(\"overwriteSchema\", \"true\").save(f\"/mnt/{storageAccountName}/silver/cargas\"),\n",
    "df_clientes.write.format('delta').mode(\"overwrite\").option(\"overwriteSchema\", \"true\").save(f\"/mnt/{storageAccountName}/silver/clientes\"),\n",
    "df_motoristas.write.format('delta').mode(\"overwrite\").option(\"overwriteSchema\", \"true\").save(f\"/mnt/{storageAccountName}/silver/motoristas\"),\n",
    "df_rotas.write.format('delta').mode(\"overwrite\").option(\"overwriteSchema\", \"true\").save(f\"/mnt/{storageAccountName}/silver/rotas\"),\n",
    "df_veiculos.write.format('delta').mode(\"overwrite\").option(\"overwriteSchema\", \"true\").save(f\"/mnt/{storageAccountName}/silver/veiculos\")"
   ]
  },
  {
   "cell_type": "markdown",
   "metadata": {
    "application/vnd.databricks.v1+cell": {
     "cellMetadata": {
      "byteLimit": 2048000,
      "rowLimit": 10000
     },
     "inputWidgets": {},
     "nuid": "511bb1d8-ea04-4a9c-93c4-6b8228f00830",
     "showTitle": false,
     "title": ""
    }
   },
   "source": [
    "###Verificando os dados gravados em delta na camada silver"
   ]
  },
  {
   "cell_type": "code",
   "execution_count": 0,
   "metadata": {
    "application/vnd.databricks.v1+cell": {
     "cellMetadata": {
      "byteLimit": 2048000,
      "rowLimit": 10000
     },
     "inputWidgets": {},
     "nuid": "66200d6b-5ede-422d-842c-854946e50c2b",
     "showTitle": false,
     "title": ""
    }
   },
   "outputs": [
    {
     "output_type": "display_data",
     "data": {
      "text/html": [
       "<style scoped>\n",
       "  .table-result-container {\n",
       "    max-height: 300px;\n",
       "    overflow: auto;\n",
       "  }\n",
       "  table, th, td {\n",
       "    border: 1px solid black;\n",
       "    border-collapse: collapse;\n",
       "  }\n",
       "  th, td {\n",
       "    padding: 5px;\n",
       "  }\n",
       "  th {\n",
       "    text-align: left;\n",
       "  }\n",
       "</style><div class='table-result-container'><table class='table-result'><thead style='background-color: white'><tr><th>path</th><th>name</th><th>size</th><th>modificationTime</th></tr></thead><tbody><tr><td>dbfs:/mnt/datalake7a68c04c876ba15d/silver/agendamentos/</td><td>agendamentos/</td><td>0</td><td>0</td></tr><tr><td>dbfs:/mnt/datalake7a68c04c876ba15d/silver/cargas/</td><td>cargas/</td><td>0</td><td>0</td></tr><tr><td>dbfs:/mnt/datalake7a68c04c876ba15d/silver/clientes/</td><td>clientes/</td><td>0</td><td>0</td></tr><tr><td>dbfs:/mnt/datalake7a68c04c876ba15d/silver/motoristas/</td><td>motoristas/</td><td>0</td><td>0</td></tr><tr><td>dbfs:/mnt/datalake7a68c04c876ba15d/silver/rotas/</td><td>rotas/</td><td>0</td><td>0</td></tr><tr><td>dbfs:/mnt/datalake7a68c04c876ba15d/silver/veiculos/</td><td>veiculos/</td><td>0</td><td>0</td></tr></tbody></table></div>"
      ]
     },
     "metadata": {
      "application/vnd.databricks.v1+output": {
       "addedWidgets": {},
       "aggData": [],
       "aggError": "",
       "aggOverflow": false,
       "aggSchema": [],
       "aggSeriesLimitReached": false,
       "aggType": "",
       "arguments": {},
       "columnCustomDisplayInfos": {},
       "data": [
        [
         "dbfs:/mnt/datalake7a68c04c876ba15d/silver/agendamentos/",
         "agendamentos/",
         0,
         0
        ],
        [
         "dbfs:/mnt/datalake7a68c04c876ba15d/silver/cargas/",
         "cargas/",
         0,
         0
        ],
        [
         "dbfs:/mnt/datalake7a68c04c876ba15d/silver/clientes/",
         "clientes/",
         0,
         0
        ],
        [
         "dbfs:/mnt/datalake7a68c04c876ba15d/silver/motoristas/",
         "motoristas/",
         0,
         0
        ],
        [
         "dbfs:/mnt/datalake7a68c04c876ba15d/silver/rotas/",
         "rotas/",
         0,
         0
        ],
        [
         "dbfs:/mnt/datalake7a68c04c876ba15d/silver/veiculos/",
         "veiculos/",
         0,
         0
        ]
       ],
       "datasetInfos": [],
       "dbfsResultPath": null,
       "isJsonSchema": true,
       "metadata": {},
       "overflow": false,
       "plotOptions": {
        "customPlotOptions": {},
        "displayType": "table",
        "pivotAggregation": null,
        "pivotColumns": null,
        "xColumns": null,
        "yColumns": null
       },
       "removedWidgets": [],
       "schema": [
        {
         "metadata": "{}",
         "name": "path",
         "type": "\"string\""
        },
        {
         "metadata": "{}",
         "name": "name",
         "type": "\"string\""
        },
        {
         "metadata": "{}",
         "name": "size",
         "type": "\"long\""
        },
        {
         "metadata": "{}",
         "name": "modificationTime",
         "type": "\"long\""
        }
       ],
       "type": "table"
      }
     },
     "output_type": "display_data"
    }
   ],
   "source": [
    "display(dbutils.fs.ls(f\"/mnt/{storageAccountName}/silver/\"))"
   ]
  },
  {
   "cell_type": "markdown",
   "metadata": {
    "application/vnd.databricks.v1+cell": {
     "cellMetadata": {
      "byteLimit": 2048000,
      "rowLimit": 10000
     },
     "inputWidgets": {},
     "nuid": "f6393fa5-64f2-4e8d-8358-617d0b55f035",
     "showTitle": false,
     "title": ""
    }
   },
   "source": [
    "### Lendo um exemplo de um delta lake para validar a existencia dos dados e das colunas do metadados"
   ]
  },
  {
   "cell_type": "code",
   "execution_count": 0,
   "metadata": {
    "application/vnd.databricks.v1+cell": {
     "cellMetadata": {
      "byteLimit": 2048000,
      "rowLimit": 10000
     },
     "inputWidgets": {},
     "nuid": "bb2a3903-43cd-4cdb-8ad7-b4200febeec4",
     "showTitle": false,
     "title": ""
    }
   },
   "outputs": [
    {
     "output_type": "display_data",
     "data": {
      "text/html": [
       "<style scoped>\n",
       "  .table-result-container {\n",
       "    max-height: 300px;\n",
       "    overflow: auto;\n",
       "  }\n",
       "  table, th, td {\n",
       "    border: 1px solid black;\n",
       "    border-collapse: collapse;\n",
       "  }\n",
       "  th, td {\n",
       "    padding: 5px;\n",
       "  }\n",
       "  th {\n",
       "    text-align: left;\n",
       "  }\n",
       "</style><div class='table-result-container'><table class='table-result'><thead style='background-color: white'><tr><th>codigo_agendamento</th><th>data_hora_coleta</th><th>data_hora_entrega</th><th>codigo_veiculo</th><th>codigo_carga</th><th>codigo_rota</th><th>codigo_cliente</th><th>data_hora_bronze</th><th>nome_arquivo</th><th>data_hora_silver</th></tr></thead><tbody><tr><td>1</td><td>2019-10-22 09:24:33.884663</td><td>2019-11-14 09:24:33.884663</td><td>631</td><td>3042</td><td>1728</td><td>1471</td><td>2024-06-28T16:55:13.033Z</td><td>agendamentos</td><td>2024-06-28T17:01:52.05Z</td></tr><tr><td>2</td><td>2024-01-31 17:27:20.243187</td><td>2024-02-24 17:27:20.243187</td><td>6028</td><td>1649</td><td>977</td><td>8136</td><td>2024-06-28T16:55:13.033Z</td><td>agendamentos</td><td>2024-06-28T17:01:52.05Z</td></tr><tr><td>3</td><td>2023-08-01 10:19:28.431359</td><td>2023-08-07 10:19:28.431359</td><td>1227</td><td>4382</td><td>524</td><td>6560</td><td>2024-06-28T16:55:13.033Z</td><td>agendamentos</td><td>2024-06-28T17:01:52.05Z</td></tr><tr><td>4</td><td>2020-07-12 20:32:58.738134</td><td>2020-07-18 20:32:58.738134</td><td>131</td><td>6561</td><td>8786</td><td>781</td><td>2024-06-28T16:55:13.033Z</td><td>agendamentos</td><td>2024-06-28T17:01:52.05Z</td></tr><tr><td>5</td><td>2021-12-21 11:57:31.030714</td><td>2021-12-23 11:57:31.030714</td><td>2260</td><td>5315</td><td>5068</td><td>1075</td><td>2024-06-28T16:55:13.033Z</td><td>agendamentos</td><td>2024-06-28T17:01:52.05Z</td></tr><tr><td>6</td><td>2021-09-11 20:02:17.343064</td><td>2021-09-15 20:02:17.343064</td><td>8750</td><td>4505</td><td>1019</td><td>346</td><td>2024-06-28T16:55:13.033Z</td><td>agendamentos</td><td>2024-06-28T17:01:52.05Z</td></tr><tr><td>7</td><td>2022-11-28 15:21:53.559554</td><td>2022-12-20 15:21:53.559554</td><td>4400</td><td>9879</td><td>1682</td><td>9891</td><td>2024-06-28T16:55:13.033Z</td><td>agendamentos</td><td>2024-06-28T17:01:52.05Z</td></tr><tr><td>8</td><td>2023-09-25 02:13:43.305995</td><td>2023-10-08 02:13:43.305995</td><td>6369</td><td>2956</td><td>9396</td><td>3791</td><td>2024-06-28T16:55:13.033Z</td><td>agendamentos</td><td>2024-06-28T17:01:52.05Z</td></tr><tr><td>9</td><td>2019-07-25 15:30:45.039371</td><td>2019-08-02 15:30:45.039371</td><td>847</td><td>313</td><td>469</td><td>7102</td><td>2024-06-28T16:55:13.033Z</td><td>agendamentos</td><td>2024-06-28T17:01:52.05Z</td></tr><tr><td>10</td><td>2019-03-04 02:37:25.339560</td><td>2019-03-27 02:37:25.339560</td><td>8200</td><td>6688</td><td>9044</td><td>3516</td><td>2024-06-28T16:55:13.033Z</td><td>agendamentos</td><td>2024-06-28T17:01:52.05Z</td></tr></tbody></table></div>"
      ]
     },
     "metadata": {
      "application/vnd.databricks.v1+output": {
       "addedWidgets": {},
       "aggData": [],
       "aggError": "",
       "aggOverflow": false,
       "aggSchema": [],
       "aggSeriesLimitReached": false,
       "aggType": "",
       "arguments": {},
       "columnCustomDisplayInfos": {},
       "data": [
        [
         "1",
         "2019-10-22 09:24:33.884663",
         "2019-11-14 09:24:33.884663",
         "631",
         "3042",
         "1728",
         "1471",
         "2024-06-28T16:55:13.033Z",
         "agendamentos",
         "2024-06-28T17:01:52.05Z"
        ],
        [
         "2",
         "2024-01-31 17:27:20.243187",
         "2024-02-24 17:27:20.243187",
         "6028",
         "1649",
         "977",
         "8136",
         "2024-06-28T16:55:13.033Z",
         "agendamentos",
         "2024-06-28T17:01:52.05Z"
        ],
        [
         "3",
         "2023-08-01 10:19:28.431359",
         "2023-08-07 10:19:28.431359",
         "1227",
         "4382",
         "524",
         "6560",
         "2024-06-28T16:55:13.033Z",
         "agendamentos",
         "2024-06-28T17:01:52.05Z"
        ],
        [
         "4",
         "2020-07-12 20:32:58.738134",
         "2020-07-18 20:32:58.738134",
         "131",
         "6561",
         "8786",
         "781",
         "2024-06-28T16:55:13.033Z",
         "agendamentos",
         "2024-06-28T17:01:52.05Z"
        ],
        [
         "5",
         "2021-12-21 11:57:31.030714",
         "2021-12-23 11:57:31.030714",
         "2260",
         "5315",
         "5068",
         "1075",
         "2024-06-28T16:55:13.033Z",
         "agendamentos",
         "2024-06-28T17:01:52.05Z"
        ],
        [
         "6",
         "2021-09-11 20:02:17.343064",
         "2021-09-15 20:02:17.343064",
         "8750",
         "4505",
         "1019",
         "346",
         "2024-06-28T16:55:13.033Z",
         "agendamentos",
         "2024-06-28T17:01:52.05Z"
        ],
        [
         "7",
         "2022-11-28 15:21:53.559554",
         "2022-12-20 15:21:53.559554",
         "4400",
         "9879",
         "1682",
         "9891",
         "2024-06-28T16:55:13.033Z",
         "agendamentos",
         "2024-06-28T17:01:52.05Z"
        ],
        [
         "8",
         "2023-09-25 02:13:43.305995",
         "2023-10-08 02:13:43.305995",
         "6369",
         "2956",
         "9396",
         "3791",
         "2024-06-28T16:55:13.033Z",
         "agendamentos",
         "2024-06-28T17:01:52.05Z"
        ],
        [
         "9",
         "2019-07-25 15:30:45.039371",
         "2019-08-02 15:30:45.039371",
         "847",
         "313",
         "469",
         "7102",
         "2024-06-28T16:55:13.033Z",
         "agendamentos",
         "2024-06-28T17:01:52.05Z"
        ],
        [
         "10",
         "2019-03-04 02:37:25.339560",
         "2019-03-27 02:37:25.339560",
         "8200",
         "6688",
         "9044",
         "3516",
         "2024-06-28T16:55:13.033Z",
         "agendamentos",
         "2024-06-28T17:01:52.05Z"
        ]
       ],
       "datasetInfos": [],
       "dbfsResultPath": null,
       "isJsonSchema": true,
       "metadata": {},
       "overflow": false,
       "plotOptions": {
        "customPlotOptions": {},
        "displayType": "table",
        "pivotAggregation": null,
        "pivotColumns": null,
        "xColumns": null,
        "yColumns": null
       },
       "removedWidgets": [],
       "schema": [
        {
         "metadata": "{}",
         "name": "codigo_agendamento",
         "type": "\"string\""
        },
        {
         "metadata": "{}",
         "name": "data_hora_coleta",
         "type": "\"string\""
        },
        {
         "metadata": "{}",
         "name": "data_hora_entrega",
         "type": "\"string\""
        },
        {
         "metadata": "{}",
         "name": "codigo_veiculo",
         "type": "\"string\""
        },
        {
         "metadata": "{}",
         "name": "codigo_carga",
         "type": "\"string\""
        },
        {
         "metadata": "{}",
         "name": "codigo_rota",
         "type": "\"string\""
        },
        {
         "metadata": "{}",
         "name": "codigo_cliente",
         "type": "\"string\""
        },
        {
         "metadata": "{}",
         "name": "data_hora_bronze",
         "type": "\"timestamp\""
        },
        {
         "metadata": "{}",
         "name": "nome_arquivo",
         "type": "\"string\""
        },
        {
         "metadata": "{}",
         "name": "data_hora_silver",
         "type": "\"timestamp\""
        }
       ],
       "type": "table"
      }
     },
     "output_type": "display_data"
    }
   ],
   "source": [
    "spark.read.format('delta').load(f'/mnt/{storageAccountName}/silver/agendamentos').limit(10).display()"
   ]
  }
 ],
 "metadata": {
  "application/vnd.databricks.v1+notebook": {
   "dashboards": [],
   "environmentMetadata": null,
   "language": "python",
   "notebookMetadata": {
    "mostRecentlyExecutedCommandWithImplicitDF": {
     "commandId": 3210653005600686,
     "dataframes": [
      "_sqldf"
     ]
    },
    "pythonIndentUnit": 4
   },
   "notebookName": "Lakehouse - Silver",
   "widgets": {}
  }
 },
 "nbformat": 4,
 "nbformat_minor": 0
}
